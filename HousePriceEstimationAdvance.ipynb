{
 "cells": [
  {
   "cell_type": "markdown",
   "id": "b481c256",
   "metadata": {},
   "source": [
    "# Step 1: 检视源数据集"
   ]
  },
  {
   "cell_type": "code",
   "execution_count": 1,
   "id": "cd0a6b90",
   "metadata": {},
   "outputs": [],
   "source": [
    "import numpy as np"
   ]
  },
  {
   "cell_type": "code",
   "execution_count": 2,
   "id": "98cdd162",
   "metadata": {},
   "outputs": [],
   "source": [
    "import pandas as pd"
   ]
  },
  {
   "cell_type": "markdown",
   "id": "bdc4059c",
   "metadata": {},
   "source": [
    "读入数据\n",
    "一般来说源数据的index那一栏没什么用，我们可以用来作为我们pandas dataframe的index。这样之后要是检索起来也省事儿。<br>\n",
    "有人的地方就有鄙视链。跟知乎一样。Kaggle的也是个处处呵呵的危险地带。Kaggle上默认把数据放在input文件夹下。所以我们没事儿写个教程什么的，也可以依据这个convention来，显得自己很有逼格。"
   ]
  },
  {
   "cell_type": "code",
   "execution_count": 3,
   "id": "e8ed4409",
   "metadata": {},
   "outputs": [],
   "source": [
    "train_df=pd.read_csv('./input/train.csv', index_col=0)\n",
    "test_df=pd.read_csv('./input/test.csv',index_col=0)"
   ]
  },
  {
   "cell_type": "markdown",
   "id": "dba4d9de",
   "metadata": {},
   "source": [
    "../ 是父路径, ./是子路径"
   ]
  },
  {
   "cell_type": "markdown",
   "id": "2eb1cf0c",
   "metadata": {},
   "source": [
    "**检视源数据**"
   ]
  },
  {
   "cell_type": "code",
   "execution_count": 4,
   "id": "5b61124d",
   "metadata": {},
   "outputs": [
    {
     "data": {
      "text/html": [
       "<div>\n",
       "<style scoped>\n",
       "    .dataframe tbody tr th:only-of-type {\n",
       "        vertical-align: middle;\n",
       "    }\n",
       "\n",
       "    .dataframe tbody tr th {\n",
       "        vertical-align: top;\n",
       "    }\n",
       "\n",
       "    .dataframe thead th {\n",
       "        text-align: right;\n",
       "    }\n",
       "</style>\n",
       "<table border=\"1\" class=\"dataframe\">\n",
       "  <thead>\n",
       "    <tr style=\"text-align: right;\">\n",
       "      <th></th>\n",
       "      <th>MSSubClass</th>\n",
       "      <th>MSZoning</th>\n",
       "      <th>LotFrontage</th>\n",
       "      <th>LotArea</th>\n",
       "      <th>Street</th>\n",
       "      <th>Alley</th>\n",
       "      <th>LotShape</th>\n",
       "      <th>LandContour</th>\n",
       "      <th>Utilities</th>\n",
       "      <th>LotConfig</th>\n",
       "      <th>...</th>\n",
       "      <th>PoolArea</th>\n",
       "      <th>PoolQC</th>\n",
       "      <th>Fence</th>\n",
       "      <th>MiscFeature</th>\n",
       "      <th>MiscVal</th>\n",
       "      <th>MoSold</th>\n",
       "      <th>YrSold</th>\n",
       "      <th>SaleType</th>\n",
       "      <th>SaleCondition</th>\n",
       "      <th>SalePrice</th>\n",
       "    </tr>\n",
       "    <tr>\n",
       "      <th>Id</th>\n",
       "      <th></th>\n",
       "      <th></th>\n",
       "      <th></th>\n",
       "      <th></th>\n",
       "      <th></th>\n",
       "      <th></th>\n",
       "      <th></th>\n",
       "      <th></th>\n",
       "      <th></th>\n",
       "      <th></th>\n",
       "      <th></th>\n",
       "      <th></th>\n",
       "      <th></th>\n",
       "      <th></th>\n",
       "      <th></th>\n",
       "      <th></th>\n",
       "      <th></th>\n",
       "      <th></th>\n",
       "      <th></th>\n",
       "      <th></th>\n",
       "      <th></th>\n",
       "    </tr>\n",
       "  </thead>\n",
       "  <tbody>\n",
       "    <tr>\n",
       "      <th>1</th>\n",
       "      <td>60</td>\n",
       "      <td>RL</td>\n",
       "      <td>65.0</td>\n",
       "      <td>8450</td>\n",
       "      <td>Pave</td>\n",
       "      <td>NaN</td>\n",
       "      <td>Reg</td>\n",
       "      <td>Lvl</td>\n",
       "      <td>AllPub</td>\n",
       "      <td>Inside</td>\n",
       "      <td>...</td>\n",
       "      <td>0</td>\n",
       "      <td>NaN</td>\n",
       "      <td>NaN</td>\n",
       "      <td>NaN</td>\n",
       "      <td>0</td>\n",
       "      <td>2</td>\n",
       "      <td>2008</td>\n",
       "      <td>WD</td>\n",
       "      <td>Normal</td>\n",
       "      <td>208500</td>\n",
       "    </tr>\n",
       "    <tr>\n",
       "      <th>2</th>\n",
       "      <td>20</td>\n",
       "      <td>RL</td>\n",
       "      <td>80.0</td>\n",
       "      <td>9600</td>\n",
       "      <td>Pave</td>\n",
       "      <td>NaN</td>\n",
       "      <td>Reg</td>\n",
       "      <td>Lvl</td>\n",
       "      <td>AllPub</td>\n",
       "      <td>FR2</td>\n",
       "      <td>...</td>\n",
       "      <td>0</td>\n",
       "      <td>NaN</td>\n",
       "      <td>NaN</td>\n",
       "      <td>NaN</td>\n",
       "      <td>0</td>\n",
       "      <td>5</td>\n",
       "      <td>2007</td>\n",
       "      <td>WD</td>\n",
       "      <td>Normal</td>\n",
       "      <td>181500</td>\n",
       "    </tr>\n",
       "    <tr>\n",
       "      <th>3</th>\n",
       "      <td>60</td>\n",
       "      <td>RL</td>\n",
       "      <td>68.0</td>\n",
       "      <td>11250</td>\n",
       "      <td>Pave</td>\n",
       "      <td>NaN</td>\n",
       "      <td>IR1</td>\n",
       "      <td>Lvl</td>\n",
       "      <td>AllPub</td>\n",
       "      <td>Inside</td>\n",
       "      <td>...</td>\n",
       "      <td>0</td>\n",
       "      <td>NaN</td>\n",
       "      <td>NaN</td>\n",
       "      <td>NaN</td>\n",
       "      <td>0</td>\n",
       "      <td>9</td>\n",
       "      <td>2008</td>\n",
       "      <td>WD</td>\n",
       "      <td>Normal</td>\n",
       "      <td>223500</td>\n",
       "    </tr>\n",
       "    <tr>\n",
       "      <th>4</th>\n",
       "      <td>70</td>\n",
       "      <td>RL</td>\n",
       "      <td>60.0</td>\n",
       "      <td>9550</td>\n",
       "      <td>Pave</td>\n",
       "      <td>NaN</td>\n",
       "      <td>IR1</td>\n",
       "      <td>Lvl</td>\n",
       "      <td>AllPub</td>\n",
       "      <td>Corner</td>\n",
       "      <td>...</td>\n",
       "      <td>0</td>\n",
       "      <td>NaN</td>\n",
       "      <td>NaN</td>\n",
       "      <td>NaN</td>\n",
       "      <td>0</td>\n",
       "      <td>2</td>\n",
       "      <td>2006</td>\n",
       "      <td>WD</td>\n",
       "      <td>Abnorml</td>\n",
       "      <td>140000</td>\n",
       "    </tr>\n",
       "    <tr>\n",
       "      <th>5</th>\n",
       "      <td>60</td>\n",
       "      <td>RL</td>\n",
       "      <td>84.0</td>\n",
       "      <td>14260</td>\n",
       "      <td>Pave</td>\n",
       "      <td>NaN</td>\n",
       "      <td>IR1</td>\n",
       "      <td>Lvl</td>\n",
       "      <td>AllPub</td>\n",
       "      <td>FR2</td>\n",
       "      <td>...</td>\n",
       "      <td>0</td>\n",
       "      <td>NaN</td>\n",
       "      <td>NaN</td>\n",
       "      <td>NaN</td>\n",
       "      <td>0</td>\n",
       "      <td>12</td>\n",
       "      <td>2008</td>\n",
       "      <td>WD</td>\n",
       "      <td>Normal</td>\n",
       "      <td>250000</td>\n",
       "    </tr>\n",
       "  </tbody>\n",
       "</table>\n",
       "<p>5 rows × 80 columns</p>\n",
       "</div>"
      ],
      "text/plain": [
       "    MSSubClass MSZoning  LotFrontage  LotArea Street Alley LotShape  \\\n",
       "Id                                                                    \n",
       "1           60       RL         65.0     8450   Pave   NaN      Reg   \n",
       "2           20       RL         80.0     9600   Pave   NaN      Reg   \n",
       "3           60       RL         68.0    11250   Pave   NaN      IR1   \n",
       "4           70       RL         60.0     9550   Pave   NaN      IR1   \n",
       "5           60       RL         84.0    14260   Pave   NaN      IR1   \n",
       "\n",
       "   LandContour Utilities LotConfig  ... PoolArea PoolQC Fence MiscFeature  \\\n",
       "Id                                  ...                                     \n",
       "1          Lvl    AllPub    Inside  ...        0    NaN   NaN         NaN   \n",
       "2          Lvl    AllPub       FR2  ...        0    NaN   NaN         NaN   \n",
       "3          Lvl    AllPub    Inside  ...        0    NaN   NaN         NaN   \n",
       "4          Lvl    AllPub    Corner  ...        0    NaN   NaN         NaN   \n",
       "5          Lvl    AllPub       FR2  ...        0    NaN   NaN         NaN   \n",
       "\n",
       "   MiscVal MoSold  YrSold  SaleType  SaleCondition  SalePrice  \n",
       "Id                                                             \n",
       "1        0      2    2008        WD         Normal     208500  \n",
       "2        0      5    2007        WD         Normal     181500  \n",
       "3        0      9    2008        WD         Normal     223500  \n",
       "4        0      2    2006        WD        Abnorml     140000  \n",
       "5        0     12    2008        WD         Normal     250000  \n",
       "\n",
       "[5 rows x 80 columns]"
      ]
     },
     "execution_count": 4,
     "metadata": {},
     "output_type": "execute_result"
    }
   ],
   "source": [
    "train_df.head()"
   ]
  },
  {
   "cell_type": "markdown",
   "id": "96f31a89",
   "metadata": {},
   "source": [
    ".head() 是前五行"
   ]
  },
  {
   "cell_type": "markdown",
   "id": "55429383",
   "metadata": {},
   "source": [
    "# Step 2: 合并数据"
   ]
  },
  {
   "cell_type": "markdown",
   "id": "7439efaa",
   "metadata": {},
   "source": [
    "这么做主要是为了用DF进行数据预处理的时候更加方便。等所有的需要的预处理进行完之后，我们再把他们分隔开。<br>\n",
    "首先，SalePrice作为我们的训练目标，只会出现在训练集中，不会在测试集中(要不然你测试什么?)。所以，我们先把SalePrice这一列这给拿出来，不让它碍事儿。"
   ]
  },
  {
   "cell_type": "markdown",
   "id": "6906cc42",
   "metadata": {},
   "source": [
    "我们先看一下SalePrice长什么样子"
   ]
  },
  {
   "cell_type": "code",
   "execution_count": 5,
   "id": "13ee307b",
   "metadata": {},
   "outputs": [
    {
     "data": {
      "text/plain": [
       "array([[<AxesSubplot:title={'center':'price'}>,\n",
       "        <AxesSubplot:title={'center':'log(price+1)'}>]], dtype=object)"
      ]
     },
     "execution_count": 5,
     "metadata": {},
     "output_type": "execute_result"
    },
    {
     "data": {
      "image/png": "[encoded data removed]",
      "text/plain": [
       "<Figure size 640x480 with 2 Axes>"
      ]
     },
     "metadata": {},
     "output_type": "display_data"
    }
   ],
   "source": [
    "%matplotlib inline\n",
    "prices=pd.DataFrame({\"price\":train_df[\"SalePrice\"],\"log(price+1)\":np.log1p(train_df[\"SalePrice\"])})\n",
    "prices.hist()"
   ]
  },
  {
   "cell_type": "markdown",
   "id": "112ea46b",
   "metadata": {},
   "source": [
    "可见，label本身并不平滑。为了我们分类器的学习更加准确，我们会首先把label给“平滑化”(正态化)<br>\n",
    "这一步大部分同学会miss掉，导致自己的结果总是达不到一定标准。<br>\n",
    "这里我们使用最有逼格的log1p,也就是log(x+1)，避免了复值的问题。<br>\n",
    "记住哟，如果我们这里把数据都给平滑化了，那么最后算结果的时候，要记得把预测到的平滑数据给变回去。"
   ]
  },
  {
   "cell_type": "markdown",
   "id": "0cb4f6d4",
   "metadata": {},
   "source": [
    "按照“怎么来的怎么去”原则，log1p()就需要expm1();同理，lig就需要exp(), ...etx."
   ]
  },
  {
   "cell_type": "code",
   "execution_count": 6,
   "id": "26ee2cda",
   "metadata": {},
   "outputs": [
    {
     "data": {
      "text/plain": [
       "Id\n",
       "1    12.247699\n",
       "2    12.109016\n",
       "3    12.317171\n",
       "4    11.849405\n",
       "5    12.429220\n",
       "Name: SalePrice, dtype: float64"
      ]
     },
     "execution_count": 6,
     "metadata": {},
     "output_type": "execute_result"
    }
   ],
   "source": [
    "y_train=np.log1p(train_df.pop('SalePrice'))\n",
    "y_train.head()"
   ]
  },
  {
   "cell_type": "markdown",
   "id": "e4224141",
   "metadata": {},
   "source": [
    "然后我们把剩下的部分合并起来"
   ]
  },
  {
   "cell_type": "code",
   "execution_count": 7,
   "id": "649e3e31",
   "metadata": {},
   "outputs": [],
   "source": [
    "all_df=pd.concat((train_df,test_df),axis=0)"
   ]
  },
  {
   "cell_type": "markdown",
   "id": "515e68ee",
   "metadata": {},
   "source": [
    "此刻，我们可以看到all_df就是我们合在一起的DF"
   ]
  },
  {
   "cell_type": "code",
   "execution_count": 8,
   "id": "555ab02f",
   "metadata": {},
   "outputs": [
    {
     "data": {
      "text/plain": [
       "(2919, 79)"
      ]
     },
     "execution_count": 8,
     "metadata": {},
     "output_type": "execute_result"
    }
   ],
   "source": [
    "all_df.shape"
   ]
  },
  {
   "cell_type": "markdown",
   "id": "e35b94ee",
   "metadata": {},
   "source": [
    "# Step 3: 变量转化"
   ]
  },
  {
   "cell_type": "markdown",
   "id": "f32bc94f",
   "metadata": {},
   "source": [
    "类似「特征工程」。就是把不方便处理或者不unify的数据给统一了。<br>\n",
    "正确化变量属性<br>\n",
    "首先，我们注意到，MSSubClass的值其实应该是一个category,但是Pandas是不会懂这些事儿的。使用DF的时候，这类数字符号会被默认记成数字。<br>\n",
    "这种东西就很有误导性，我们需要把它变回成string"
   ]
  },
  {
   "cell_type": "code",
   "execution_count": 9,
   "id": "6e4d26bc",
   "metadata": {},
   "outputs": [
    {
     "data": {
      "text/plain": [
       "dtype('int64')"
      ]
     },
     "execution_count": 9,
     "metadata": {},
     "output_type": "execute_result"
    }
   ],
   "source": [
    "all_df['MSSubClass'].dtypes"
   ]
  },
  {
   "cell_type": "code",
   "execution_count": 10,
   "id": "b101296f",
   "metadata": {},
   "outputs": [],
   "source": [
    "all_df['MSSubClass']=all_df['MSSubClass'].astype(str)"
   ]
  },
  {
   "cell_type": "markdown",
   "id": "d1eced58",
   "metadata": {},
   "source": [
    "变成str以后，做个统计，就很清楚了"
   ]
  },
  {
   "cell_type": "code",
   "execution_count": 11,
   "id": "257f92cd",
   "metadata": {},
   "outputs": [
    {
     "data": {
      "text/plain": [
       "20     1079\n",
       "60      575\n",
       "50      287\n",
       "120     182\n",
       "30      139\n",
       "70      128\n",
       "160     128\n",
       "80      118\n",
       "90      109\n",
       "190      61\n",
       "85       48\n",
       "75       23\n",
       "45       18\n",
       "180      17\n",
       "40        6\n",
       "150       1\n",
       "Name: MSSubClass, dtype: int64"
      ]
     },
     "execution_count": 11,
     "metadata": {},
     "output_type": "execute_result"
    }
   ],
   "source": [
    "all_df['MSSubClass'].value_counts()"
   ]
  },
  {
   "cell_type": "markdown",
   "id": "0569c712",
   "metadata": {},
   "source": [
    "dtype: int64  指的是后面这一列的数据格式"
   ]
  },
  {
   "cell_type": "markdown",
   "id": "f401a40f",
   "metadata": {},
   "source": [
    "把category的变量转变成numerical表达形式<br>\n",
    "当我们用numerical来表达categorical的时候，要注意，数字本身有大小的含义，所以乱用数字会给之后的模型学习带来麻烦。于是我们可以用One-Hot的方法来表达category。<br>\n",
    "pandas自带的get dummies方法，可以帮你一键做到One-Hot。"
   ]
  },
  {
   "cell_type": "code",
   "execution_count": 12,
   "id": "0e261c90",
   "metadata": {},
   "outputs": [
    {
     "data": {
      "text/html": [
       "<div>\n",
       "<style scoped>\n",
       "    .dataframe tbody tr th:only-of-type {\n",
       "        vertical-align: middle;\n",
       "    }\n",
       "\n",
       "    .dataframe tbody tr th {\n",
       "        vertical-align: top;\n",
       "    }\n",
       "\n",
       "    .dataframe thead th {\n",
       "        text-align: right;\n",
       "    }\n",
       "</style>\n",
       "<table border=\"1\" class=\"dataframe\">\n",
       "  <thead>\n",
       "    <tr style=\"text-align: right;\">\n",
       "      <th></th>\n",
       "      <th>MSSubClass_120</th>\n",
       "      <th>MSSubClass_150</th>\n",
       "      <th>MSSubClass_160</th>\n",
       "      <th>MSSubClass_180</th>\n",
       "      <th>MSSubClass_190</th>\n",
       "      <th>MSSubClass_20</th>\n",
       "      <th>MSSubClass_30</th>\n",
       "      <th>MSSubClass_40</th>\n",
       "      <th>MSSubClass_45</th>\n",
       "      <th>MSSubClass_50</th>\n",
       "      <th>MSSubClass_60</th>\n",
       "      <th>MSSubClass_70</th>\n",
       "      <th>MSSubClass_75</th>\n",
       "      <th>MSSubClass_80</th>\n",
       "      <th>MSSubClass_85</th>\n",
       "      <th>MSSubClass_90</th>\n",
       "    </tr>\n",
       "    <tr>\n",
       "      <th>Id</th>\n",
       "      <th></th>\n",
       "      <th></th>\n",
       "      <th></th>\n",
       "      <th></th>\n",
       "      <th></th>\n",
       "      <th></th>\n",
       "      <th></th>\n",
       "      <th></th>\n",
       "      <th></th>\n",
       "      <th></th>\n",
       "      <th></th>\n",
       "      <th></th>\n",
       "      <th></th>\n",
       "      <th></th>\n",
       "      <th></th>\n",
       "      <th></th>\n",
       "    </tr>\n",
       "  </thead>\n",
       "  <tbody>\n",
       "    <tr>\n",
       "      <th>1</th>\n",
       "      <td>0</td>\n",
       "      <td>0</td>\n",
       "      <td>0</td>\n",
       "      <td>0</td>\n",
       "      <td>0</td>\n",
       "      <td>0</td>\n",
       "      <td>0</td>\n",
       "      <td>0</td>\n",
       "      <td>0</td>\n",
       "      <td>0</td>\n",
       "      <td>1</td>\n",
       "      <td>0</td>\n",
       "      <td>0</td>\n",
       "      <td>0</td>\n",
       "      <td>0</td>\n",
       "      <td>0</td>\n",
       "    </tr>\n",
       "    <tr>\n",
       "      <th>2</th>\n",
       "      <td>0</td>\n",
       "      <td>0</td>\n",
       "      <td>0</td>\n",
       "      <td>0</td>\n",
       "      <td>0</td>\n",
       "      <td>1</td>\n",
       "      <td>0</td>\n",
       "      <td>0</td>\n",
       "      <td>0</td>\n",
       "      <td>0</td>\n",
       "      <td>0</td>\n",
       "      <td>0</td>\n",
       "      <td>0</td>\n",
       "      <td>0</td>\n",
       "      <td>0</td>\n",
       "      <td>0</td>\n",
       "    </tr>\n",
       "    <tr>\n",
       "      <th>3</th>\n",
       "      <td>0</td>\n",
       "      <td>0</td>\n",
       "      <td>0</td>\n",
       "      <td>0</td>\n",
       "      <td>0</td>\n",
       "      <td>0</td>\n",
       "      <td>0</td>\n",
       "      <td>0</td>\n",
       "      <td>0</td>\n",
       "      <td>0</td>\n",
       "      <td>1</td>\n",
       "      <td>0</td>\n",
       "      <td>0</td>\n",
       "      <td>0</td>\n",
       "      <td>0</td>\n",
       "      <td>0</td>\n",
       "    </tr>\n",
       "    <tr>\n",
       "      <th>4</th>\n",
       "      <td>0</td>\n",
       "      <td>0</td>\n",
       "      <td>0</td>\n",
       "      <td>0</td>\n",
       "      <td>0</td>\n",
       "      <td>0</td>\n",
       "      <td>0</td>\n",
       "      <td>0</td>\n",
       "      <td>0</td>\n",
       "      <td>0</td>\n",
       "      <td>0</td>\n",
       "      <td>1</td>\n",
       "      <td>0</td>\n",
       "      <td>0</td>\n",
       "      <td>0</td>\n",
       "      <td>0</td>\n",
       "    </tr>\n",
       "    <tr>\n",
       "      <th>5</th>\n",
       "      <td>0</td>\n",
       "      <td>0</td>\n",
       "      <td>0</td>\n",
       "      <td>0</td>\n",
       "      <td>0</td>\n",
       "      <td>0</td>\n",
       "      <td>0</td>\n",
       "      <td>0</td>\n",
       "      <td>0</td>\n",
       "      <td>0</td>\n",
       "      <td>1</td>\n",
       "      <td>0</td>\n",
       "      <td>0</td>\n",
       "      <td>0</td>\n",
       "      <td>0</td>\n",
       "      <td>0</td>\n",
       "    </tr>\n",
       "  </tbody>\n",
       "</table>\n",
       "</div>"
      ],
      "text/plain": [
       "    MSSubClass_120  MSSubClass_150  MSSubClass_160  MSSubClass_180  \\\n",
       "Id                                                                   \n",
       "1                0               0               0               0   \n",
       "2                0               0               0               0   \n",
       "3                0               0               0               0   \n",
       "4                0               0               0               0   \n",
       "5                0               0               0               0   \n",
       "\n",
       "    MSSubClass_190  MSSubClass_20  MSSubClass_30  MSSubClass_40  \\\n",
       "Id                                                                \n",
       "1                0              0              0              0   \n",
       "2                0              1              0              0   \n",
       "3                0              0              0              0   \n",
       "4                0              0              0              0   \n",
       "5                0              0              0              0   \n",
       "\n",
       "    MSSubClass_45  MSSubClass_50  MSSubClass_60  MSSubClass_70  MSSubClass_75  \\\n",
       "Id                                                                              \n",
       "1               0              0              1              0              0   \n",
       "2               0              0              0              0              0   \n",
       "3               0              0              1              0              0   \n",
       "4               0              0              0              1              0   \n",
       "5               0              0              1              0              0   \n",
       "\n",
       "    MSSubClass_80  MSSubClass_85  MSSubClass_90  \n",
       "Id                                               \n",
       "1               0              0              0  \n",
       "2               0              0              0  \n",
       "3               0              0              0  \n",
       "4               0              0              0  \n",
       "5               0              0              0  "
      ]
     },
     "execution_count": 12,
     "metadata": {},
     "output_type": "execute_result"
    }
   ],
   "source": [
    "pd.get_dummies(all_df['MSSubClass'],prefix='MSSubClass').head()"
   ]
  },
  {
   "cell_type": "markdown",
   "id": "e29c730e",
   "metadata": {},
   "source": [
    "同理，我们把所有的category数据，都给One-Hot了"
   ]
  },
  {
   "cell_type": "code",
   "execution_count": 13,
   "id": "1b65f267",
   "metadata": {},
   "outputs": [
    {
     "data": {
      "text/html": [
       "<div>\n",
       "<style scoped>\n",
       "    .dataframe tbody tr th:only-of-type {\n",
       "        vertical-align: middle;\n",
       "    }\n",
       "\n",
       "    .dataframe tbody tr th {\n",
       "        vertical-align: top;\n",
       "    }\n",
       "\n",
       "    .dataframe thead th {\n",
       "        text-align: right;\n",
       "    }\n",
       "</style>\n",
       "<table border=\"1\" class=\"dataframe\">\n",
       "  <thead>\n",
       "    <tr style=\"text-align: right;\">\n",
       "      <th></th>\n",
       "      <th>LotFrontage</th>\n",
       "      <th>LotArea</th>\n",
       "      <th>OverallQual</th>\n",
       "      <th>OverallCond</th>\n",
       "      <th>YearBuilt</th>\n",
       "      <th>YearRemodAdd</th>\n",
       "      <th>MasVnrArea</th>\n",
       "      <th>BsmtFinSF1</th>\n",
       "      <th>BsmtFinSF2</th>\n",
       "      <th>BsmtUnfSF</th>\n",
       "      <th>...</th>\n",
       "      <th>SaleType_ConLw</th>\n",
       "      <th>SaleType_New</th>\n",
       "      <th>SaleType_Oth</th>\n",
       "      <th>SaleType_WD</th>\n",
       "      <th>SaleCondition_Abnorml</th>\n",
       "      <th>SaleCondition_AdjLand</th>\n",
       "      <th>SaleCondition_Alloca</th>\n",
       "      <th>SaleCondition_Family</th>\n",
       "      <th>SaleCondition_Normal</th>\n",
       "      <th>SaleCondition_Partial</th>\n",
       "    </tr>\n",
       "    <tr>\n",
       "      <th>Id</th>\n",
       "      <th></th>\n",
       "      <th></th>\n",
       "      <th></th>\n",
       "      <th></th>\n",
       "      <th></th>\n",
       "      <th></th>\n",
       "      <th></th>\n",
       "      <th></th>\n",
       "      <th></th>\n",
       "      <th></th>\n",
       "      <th></th>\n",
       "      <th></th>\n",
       "      <th></th>\n",
       "      <th></th>\n",
       "      <th></th>\n",
       "      <th></th>\n",
       "      <th></th>\n",
       "      <th></th>\n",
       "      <th></th>\n",
       "      <th></th>\n",
       "      <th></th>\n",
       "    </tr>\n",
       "  </thead>\n",
       "  <tbody>\n",
       "    <tr>\n",
       "      <th>1</th>\n",
       "      <td>65.0</td>\n",
       "      <td>8450</td>\n",
       "      <td>7</td>\n",
       "      <td>5</td>\n",
       "      <td>2003</td>\n",
       "      <td>2003</td>\n",
       "      <td>196.0</td>\n",
       "      <td>706.0</td>\n",
       "      <td>0.0</td>\n",
       "      <td>150.0</td>\n",
       "      <td>...</td>\n",
       "      <td>0</td>\n",
       "      <td>0</td>\n",
       "      <td>0</td>\n",
       "      <td>1</td>\n",
       "      <td>0</td>\n",
       "      <td>0</td>\n",
       "      <td>0</td>\n",
       "      <td>0</td>\n",
       "      <td>1</td>\n",
       "      <td>0</td>\n",
       "    </tr>\n",
       "    <tr>\n",
       "      <th>2</th>\n",
       "      <td>80.0</td>\n",
       "      <td>9600</td>\n",
       "      <td>6</td>\n",
       "      <td>8</td>\n",
       "      <td>1976</td>\n",
       "      <td>1976</td>\n",
       "      <td>0.0</td>\n",
       "      <td>978.0</td>\n",
       "      <td>0.0</td>\n",
       "      <td>284.0</td>\n",
       "      <td>...</td>\n",
       "      <td>0</td>\n",
       "      <td>0</td>\n",
       "      <td>0</td>\n",
       "      <td>1</td>\n",
       "      <td>0</td>\n",
       "      <td>0</td>\n",
       "      <td>0</td>\n",
       "      <td>0</td>\n",
       "      <td>1</td>\n",
       "      <td>0</td>\n",
       "    </tr>\n",
       "    <tr>\n",
       "      <th>3</th>\n",
       "      <td>68.0</td>\n",
       "      <td>11250</td>\n",
       "      <td>7</td>\n",
       "      <td>5</td>\n",
       "      <td>2001</td>\n",
       "      <td>2002</td>\n",
       "      <td>162.0</td>\n",
       "      <td>486.0</td>\n",
       "      <td>0.0</td>\n",
       "      <td>434.0</td>\n",
       "      <td>...</td>\n",
       "      <td>0</td>\n",
       "      <td>0</td>\n",
       "      <td>0</td>\n",
       "      <td>1</td>\n",
       "      <td>0</td>\n",
       "      <td>0</td>\n",
       "      <td>0</td>\n",
       "      <td>0</td>\n",
       "      <td>1</td>\n",
       "      <td>0</td>\n",
       "    </tr>\n",
       "    <tr>\n",
       "      <th>4</th>\n",
       "      <td>60.0</td>\n",
       "      <td>9550</td>\n",
       "      <td>7</td>\n",
       "      <td>5</td>\n",
       "      <td>1915</td>\n",
       "      <td>1970</td>\n",
       "      <td>0.0</td>\n",
       "      <td>216.0</td>\n",
       "      <td>0.0</td>\n",
       "      <td>540.0</td>\n",
       "      <td>...</td>\n",
       "      <td>0</td>\n",
       "      <td>0</td>\n",
       "      <td>0</td>\n",
       "      <td>1</td>\n",
       "      <td>1</td>\n",
       "      <td>0</td>\n",
       "      <td>0</td>\n",
       "      <td>0</td>\n",
       "      <td>0</td>\n",
       "      <td>0</td>\n",
       "    </tr>\n",
       "    <tr>\n",
       "      <th>5</th>\n",
       "      <td>84.0</td>\n",
       "      <td>14260</td>\n",
       "      <td>8</td>\n",
       "      <td>5</td>\n",
       "      <td>2000</td>\n",
       "      <td>2000</td>\n",
       "      <td>350.0</td>\n",
       "      <td>655.0</td>\n",
       "      <td>0.0</td>\n",
       "      <td>490.0</td>\n",
       "      <td>...</td>\n",
       "      <td>0</td>\n",
       "      <td>0</td>\n",
       "      <td>0</td>\n",
       "      <td>1</td>\n",
       "      <td>0</td>\n",
       "      <td>0</td>\n",
       "      <td>0</td>\n",
       "      <td>0</td>\n",
       "      <td>1</td>\n",
       "      <td>0</td>\n",
       "    </tr>\n",
       "  </tbody>\n",
       "</table>\n",
       "<p>5 rows × 303 columns</p>\n",
       "</div>"
      ],
      "text/plain": [
       "    LotFrontage  LotArea  OverallQual  OverallCond  YearBuilt  YearRemodAdd  \\\n",
       "Id                                                                            \n",
       "1          65.0     8450            7            5       2003          2003   \n",
       "2          80.0     9600            6            8       1976          1976   \n",
       "3          68.0    11250            7            5       2001          2002   \n",
       "4          60.0     9550            7            5       1915          1970   \n",
       "5          84.0    14260            8            5       2000          2000   \n",
       "\n",
       "    MasVnrArea  BsmtFinSF1  BsmtFinSF2  BsmtUnfSF  ...  SaleType_ConLw  \\\n",
       "Id                                                 ...                   \n",
       "1        196.0       706.0         0.0      150.0  ...               0   \n",
       "2          0.0       978.0         0.0      284.0  ...               0   \n",
       "3        162.0       486.0         0.0      434.0  ...               0   \n",
       "4          0.0       216.0         0.0      540.0  ...               0   \n",
       "5        350.0       655.0         0.0      490.0  ...               0   \n",
       "\n",
       "    SaleType_New  SaleType_Oth  SaleType_WD  SaleCondition_Abnorml  \\\n",
       "Id                                                                   \n",
       "1              0             0            1                      0   \n",
       "2              0             0            1                      0   \n",
       "3              0             0            1                      0   \n",
       "4              0             0            1                      1   \n",
       "5              0             0            1                      0   \n",
       "\n",
       "    SaleCondition_AdjLand  SaleCondition_Alloca  SaleCondition_Family  \\\n",
       "Id                                                                      \n",
       "1                       0                     0                     0   \n",
       "2                       0                     0                     0   \n",
       "3                       0                     0                     0   \n",
       "4                       0                     0                     0   \n",
       "5                       0                     0                     0   \n",
       "\n",
       "    SaleCondition_Normal  SaleCondition_Partial  \n",
       "Id                                               \n",
       "1                      1                      0  \n",
       "2                      1                      0  \n",
       "3                      1                      0  \n",
       "4                      0                      0  \n",
       "5                      1                      0  \n",
       "\n",
       "[5 rows x 303 columns]"
      ]
     },
     "execution_count": 13,
     "metadata": {},
     "output_type": "execute_result"
    }
   ],
   "source": [
    "all_dummy_df=pd.get_dummies(all_df)\n",
    "all_dummy_df.head()"
   ]
  },
  {
   "cell_type": "markdown",
   "id": "e7b574a2",
   "metadata": {},
   "source": [
    "会自动选取可能的dummy"
   ]
  },
  {
   "cell_type": "markdown",
   "id": "9186b011",
   "metadata": {},
   "source": [
    "**处理好numerical变量**<br>\n",
    "就算是numerical的变量，也还会有一些小问题<br>\n",
    "比如，有一些数据是缺失的"
   ]
  },
  {
   "cell_type": "code",
   "execution_count": 14,
   "id": "7b174439",
   "metadata": {},
   "outputs": [
    {
     "data": {
      "text/plain": [
       "LotFrontage     486\n",
       "GarageYrBlt     159\n",
       "MasVnrArea       23\n",
       "BsmtFullBath      2\n",
       "BsmtHalfBath      2\n",
       "BsmtUnfSF         1\n",
       "GarageArea        1\n",
       "TotalBsmtSF       1\n",
       "GarageCars        1\n",
       "BsmtFinSF2        1\n",
       "dtype: int64"
      ]
     },
     "execution_count": 14,
     "metadata": {},
     "output_type": "execute_result"
    }
   ],
   "source": [
    "all_dummy_df.isnull().sum().sort_values(ascending=False).head(10)"
   ]
  },
  {
   "cell_type": "markdown",
   "id": "76487d57",
   "metadata": {},
   "source": [
    ".isnull(): 这是一个DataFrame的方法，用于检查DataFrame中的每个元素是否为缺失值（即NaN或None），并返回一个与原DataFrame形状相同的布尔型DataFrame，其中缺失值的位置为True，非缺失值的位置为False。<br>\n",
    "\n",
    ".sum(): 这个方法用于对布尔型DataFrame进行求和操作，它将沿着指定的轴（默认为轴0，即列）对True的值进行计数。结果是一个Series对象，其中每个条目代表对应列或行中缺失值的数量。<br>\n",
    "\n",
    ".sort_values(ascending=False): 这个方法用于对Series对象中的值进行排序。ascending=False参数表示降序排序，即缺失值数量最多的列或行排在前面。<br>\n",
    "\n",
    ".head(): 这个方法用于返回排序后的Series对象的前n个条目，默认情况下n为5。在这个上下文中，它将返回缺失值数量最多的前5个列或行。<br>"
   ]
  },
  {
   "cell_type": "markdown",
   "id": "b80f7ef8",
   "metadata": {},
   "source": [
    "处理这些缺失的信息，得靠好好审题。一般来说，数据集的描述里会写的很清楚，这些缺失都代表着什么。当然，如果实在没有的话，也只能靠自己的「想当然」。。\n",
    "在这里，我们用平均值来填满这些空缺。"
   ]
  },
  {
   "cell_type": "code",
   "execution_count": 15,
   "id": "b06f5a68",
   "metadata": {},
   "outputs": [
    {
     "data": {
      "text/plain": [
       "LotFrontage        69.305795\n",
       "LotArea         10168.114080\n",
       "OverallQual         6.089072\n",
       "OverallCond         5.564577\n",
       "YearBuilt        1971.312778\n",
       "YearRemodAdd     1984.264474\n",
       "MasVnrArea        102.201312\n",
       "BsmtFinSF1        441.423235\n",
       "BsmtFinSF2         49.582248\n",
       "BsmtUnfSF         560.772104\n",
       "dtype: float64"
      ]
     },
     "execution_count": 15,
     "metadata": {},
     "output_type": "execute_result"
    }
   ],
   "source": [
    "mean_cols=all_dummy_df.mean()\n",
    "mean_cols.head(10)"
   ]
  },
  {
   "cell_type": "code",
   "execution_count": 16,
   "id": "e394ddd9",
   "metadata": {},
   "outputs": [],
   "source": [
    "all_dummy_df=all_dummy_df.fillna(mean_cols)"
   ]
  },
  {
   "cell_type": "markdown",
   "id": "bcdde979",
   "metadata": {},
   "source": [
    "看看是不是没有空缺了？"
   ]
  },
  {
   "cell_type": "code",
   "execution_count": 17,
   "id": "ca2bb28a",
   "metadata": {},
   "outputs": [
    {
     "data": {
      "text/plain": [
       "LotFrontage              0\n",
       "LotArea                  0\n",
       "OverallQual              0\n",
       "OverallCond              0\n",
       "YearBuilt                0\n",
       "                        ..\n",
       "SaleCondition_AdjLand    0\n",
       "SaleCondition_Alloca     0\n",
       "SaleCondition_Family     0\n",
       "SaleCondition_Normal     0\n",
       "SaleCondition_Partial    0\n",
       "Length: 303, dtype: int64"
      ]
     },
     "execution_count": 17,
     "metadata": {},
     "output_type": "execute_result"
    }
   ],
   "source": [
    "all_dummy_df.isnull().sum()"
   ]
  },
  {
   "cell_type": "code",
   "execution_count": 18,
   "id": "093d5424",
   "metadata": {},
   "outputs": [
    {
     "data": {
      "text/plain": [
       "0"
      ]
     },
     "execution_count": 18,
     "metadata": {},
     "output_type": "execute_result"
    }
   ],
   "source": [
    "all_dummy_df.isnull().sum().sum()"
   ]
  },
  {
   "cell_type": "markdown",
   "id": "dbd77dd4",
   "metadata": {},
   "source": [
    "**标准化numerical数据**<br>\n",
    "这一步并不是必要，但是得看你想要用的分类器是什么。一般来说，regression的分类器都比较傲娇，最好是把源数据给放在一个标准分布内。不要让数据间的差距太大。<br>\n",
    "这里，我们当然不需要把One-Hot的那些0/1数据给标准化。我们的目标应该是那些本来就是numerical的数据:<br>\n",
    "先来看看哪些是numerical的:"
   ]
  },
  {
   "cell_type": "code",
   "execution_count": 19,
   "id": "7526767d",
   "metadata": {},
   "outputs": [
    {
     "data": {
      "text/plain": [
       "Index(['LotFrontage', 'LotArea', 'OverallQual', 'OverallCond', 'YearBuilt',\n",
       "       'YearRemodAdd', 'MasVnrArea', 'BsmtFinSF1', 'BsmtFinSF2', 'BsmtUnfSF',\n",
       "       'TotalBsmtSF', '1stFlrSF', '2ndFlrSF', 'LowQualFinSF', 'GrLivArea',\n",
       "       'BsmtFullBath', 'BsmtHalfBath', 'FullBath', 'HalfBath', 'BedroomAbvGr',\n",
       "       'KitchenAbvGr', 'TotRmsAbvGrd', 'Fireplaces', 'GarageYrBlt',\n",
       "       'GarageCars', 'GarageArea', 'WoodDeckSF', 'OpenPorchSF',\n",
       "       'EnclosedPorch', '3SsnPorch', 'ScreenPorch', 'PoolArea', 'MiscVal',\n",
       "       'MoSold', 'YrSold'],\n",
       "      dtype='object')"
      ]
     },
     "execution_count": 19,
     "metadata": {},
     "output_type": "execute_result"
    }
   ],
   "source": [
    "numeric_cols=all_df.columns[all_df.dtypes !='object']\n",
    "numeric_cols"
   ]
  },
  {
   "cell_type": "markdown",
   "id": "46210e99",
   "metadata": {},
   "source": [
    "all_df.dtypes: 这是一个Series对象，其中包含all_df中每一列的数据类型。<br>\n",
    "\n",
    "all_df.columns: 这是一个Index对象，包含all_df中所有列的名称。<br>\n",
    "\n",
    "all_df.dtypes != 'object': 这是一个布尔索引，用于筛选出数据类型不是object（即不是对象类型，通常用于存储文本数据）的列。<br>\n",
    "\n",
    "numeric_cols = all_df.columns[all_df.dtypes != 'object']: 这行代码的目的是创建一个名为numeric_cols的新变量，它是一个Index对象，包含了所有数据类型不是object的列的名称。换句话说，numeric_cols将包含所有数值型列的名称。"
   ]
  },
  {
   "cell_type": "markdown",
   "id": "93039693",
   "metadata": {},
   "source": [
    "在pandas中，如果你想筛选特定数据类型的列，你可以使用与上面类似的方法，但会根据需要筛选的数据类型来调整条件。以下是一些筛选不同数据类型列的例子：<br>\n",
    "\n",
    "筛选整数型列：<br>\n",
    "\n",
    "integer_cols = all_df.columns[all_df.dtypes == 'int64'] <br>\n",
    "筛选浮点型列：<br>\n",
    "\n",
    "float_cols = all_df.columns[all_df.dtypes == 'float64'] <br>\n",
    "筛选布尔型列：<br>\n",
    "\n",
    "bool_cols = all_df.columns[all_df.dtypes == 'bool'] <br>\n",
    "筛选日期时间型列（如果DataFrame中的日期时间列被识别为datetime64[ns]类型）：<br>\n",
    "\n",
    "datetime_cols = all_df.columns[all_df.dtypes == 'datetime64[ns]'] <br>\n",
    "筛选类别型列（如果DataFrame中的某些列被转换为pandas的Categorical类型）：<br>\n",
    "\n",
    "category_cols = all_df.columns[all_df.dtypes == 'category'] <br>\n",
    "筛选字符串型列（通常object类型用于存储字符串）：<br>\n",
    "\n",
    "string_cols = all_df.columns[all_df.dtypes == 'object'] <br>\n",
    "筛选所有非数值型列（除了整数和浮点数之外的所有类型）： <br>\n",
    "\n",
    "non_numeric_cols = all_df.columns[~(all_df.dtypes == 'int64') & ~(all_df.dtypes == 'float64')] <br>\n",
    "筛选特定数据类型的列（例如，筛选出所有object类型且实际内容为字符串的列）： <br>\n",
    "\n",
    "object_string_cols = all_df.columns[(all_df.dtypes == 'object') & all_df.applymap(lambda x: isinstance(x, str))] <br>\n",
    "请注意，具体的数据类型字符串（如'int64', 'float64', 'bool', 'datetime64[ns]', 'category', 'object'）可能会根据pandas的版本或具体数据而有所不同。在使用这些代码之前，建议先检查all_df.dtypes以确认数据类型。"
   ]
  },
  {
   "cell_type": "markdown",
   "id": "ce5ec7c4",
   "metadata": {},
   "source": [
    "计算标准分布:(X-X')/s <br>\n",
    "让我们的数据点更平滑，更便于计算。<br>\n",
    "注意:我们这里也是可以继续使用Log的，我只是给大家展示一下多种“使数据平滑”的办法。"
   ]
  },
  {
   "cell_type": "code",
   "execution_count": 20,
   "id": "3d16f14d",
   "metadata": {},
   "outputs": [],
   "source": [
    "numeric_col_means=all_dummy_df.loc[:, numeric_cols].mean()\n",
    "numeric_col_std=all_dummy_df.loc[:,numeric_cols].std()\n",
    "all_dummy_df.loc[:,numeric_cols]=(all_dummy_df.loc[:,numeric_cols]-numeric_col_means)/numeric_col_std"
   ]
  },
  {
   "cell_type": "markdown",
   "id": "334c5e33",
   "metadata": {},
   "source": [
    "all_dummy_df.loc[:, numeric_cols]: 这是使用.loc属性进行列选择的一种方式。.loc用于基于标签的索引，其中第一个参数是行标签（在这里使用了:表示选择所有行），第二个参数是列标签（在这里是numeric_cols）。这将返回一个新的DataFrame，只包含numeric_cols中指定的列。"
   ]
  },
  {
   "cell_type": "code",
   "execution_count": 21,
   "id": "fd333777",
   "metadata": {},
   "outputs": [
    {
     "data": {
      "text/html": [
       "<div>\n",
       "<style scoped>\n",
       "    .dataframe tbody tr th:only-of-type {\n",
       "        vertical-align: middle;\n",
       "    }\n",
       "\n",
       "    .dataframe tbody tr th {\n",
       "        vertical-align: top;\n",
       "    }\n",
       "\n",
       "    .dataframe thead th {\n",
       "        text-align: right;\n",
       "    }\n",
       "</style>\n",
       "<table border=\"1\" class=\"dataframe\">\n",
       "  <thead>\n",
       "    <tr style=\"text-align: right;\">\n",
       "      <th></th>\n",
       "      <th>LotFrontage</th>\n",
       "      <th>LotArea</th>\n",
       "      <th>OverallQual</th>\n",
       "      <th>OverallCond</th>\n",
       "      <th>YearBuilt</th>\n",
       "      <th>YearRemodAdd</th>\n",
       "      <th>MasVnrArea</th>\n",
       "      <th>BsmtFinSF1</th>\n",
       "      <th>BsmtFinSF2</th>\n",
       "      <th>BsmtUnfSF</th>\n",
       "      <th>...</th>\n",
       "      <th>GarageArea</th>\n",
       "      <th>WoodDeckSF</th>\n",
       "      <th>OpenPorchSF</th>\n",
       "      <th>EnclosedPorch</th>\n",
       "      <th>3SsnPorch</th>\n",
       "      <th>ScreenPorch</th>\n",
       "      <th>PoolArea</th>\n",
       "      <th>MiscVal</th>\n",
       "      <th>MoSold</th>\n",
       "      <th>YrSold</th>\n",
       "    </tr>\n",
       "    <tr>\n",
       "      <th>Id</th>\n",
       "      <th></th>\n",
       "      <th></th>\n",
       "      <th></th>\n",
       "      <th></th>\n",
       "      <th></th>\n",
       "      <th></th>\n",
       "      <th></th>\n",
       "      <th></th>\n",
       "      <th></th>\n",
       "      <th></th>\n",
       "      <th></th>\n",
       "      <th></th>\n",
       "      <th></th>\n",
       "      <th></th>\n",
       "      <th></th>\n",
       "      <th></th>\n",
       "      <th></th>\n",
       "      <th></th>\n",
       "      <th></th>\n",
       "      <th></th>\n",
       "      <th></th>\n",
       "    </tr>\n",
       "  </thead>\n",
       "  <tbody>\n",
       "    <tr>\n",
       "      <th>1</th>\n",
       "      <td>-0.202033</td>\n",
       "      <td>-0.217841</td>\n",
       "      <td>0.646073</td>\n",
       "      <td>-0.507197</td>\n",
       "      <td>1.046078</td>\n",
       "      <td>0.896679</td>\n",
       "      <td>0.525112</td>\n",
       "      <td>0.580807</td>\n",
       "      <td>-0.29308</td>\n",
       "      <td>-0.934702</td>\n",
       "      <td>...</td>\n",
       "      <td>0.348840</td>\n",
       "      <td>-0.740634</td>\n",
       "      <td>0.199972</td>\n",
       "      <td>-0.359539</td>\n",
       "      <td>-0.103313</td>\n",
       "      <td>-0.285886</td>\n",
       "      <td>-0.063139</td>\n",
       "      <td>-0.089577</td>\n",
       "      <td>-1.551918</td>\n",
       "      <td>0.157619</td>\n",
       "    </tr>\n",
       "    <tr>\n",
       "      <th>2</th>\n",
       "      <td>0.501785</td>\n",
       "      <td>-0.072032</td>\n",
       "      <td>-0.063174</td>\n",
       "      <td>2.187904</td>\n",
       "      <td>0.154737</td>\n",
       "      <td>-0.395536</td>\n",
       "      <td>-0.572152</td>\n",
       "      <td>1.177910</td>\n",
       "      <td>-0.29308</td>\n",
       "      <td>-0.629788</td>\n",
       "      <td>...</td>\n",
       "      <td>-0.059782</td>\n",
       "      <td>1.614603</td>\n",
       "      <td>-0.702722</td>\n",
       "      <td>-0.359539</td>\n",
       "      <td>-0.103313</td>\n",
       "      <td>-0.285886</td>\n",
       "      <td>-0.063139</td>\n",
       "      <td>-0.089577</td>\n",
       "      <td>-0.446848</td>\n",
       "      <td>-0.602858</td>\n",
       "    </tr>\n",
       "    <tr>\n",
       "      <th>3</th>\n",
       "      <td>-0.061269</td>\n",
       "      <td>0.137173</td>\n",
       "      <td>0.646073</td>\n",
       "      <td>-0.507197</td>\n",
       "      <td>0.980053</td>\n",
       "      <td>0.848819</td>\n",
       "      <td>0.334770</td>\n",
       "      <td>0.097856</td>\n",
       "      <td>-0.29308</td>\n",
       "      <td>-0.288467</td>\n",
       "      <td>...</td>\n",
       "      <td>0.627446</td>\n",
       "      <td>-0.740634</td>\n",
       "      <td>-0.081195</td>\n",
       "      <td>-0.359539</td>\n",
       "      <td>-0.103313</td>\n",
       "      <td>-0.285886</td>\n",
       "      <td>-0.063139</td>\n",
       "      <td>-0.089577</td>\n",
       "      <td>1.026577</td>\n",
       "      <td>0.157619</td>\n",
       "    </tr>\n",
       "    <tr>\n",
       "      <th>4</th>\n",
       "      <td>-0.436639</td>\n",
       "      <td>-0.078371</td>\n",
       "      <td>0.646073</td>\n",
       "      <td>-0.507197</td>\n",
       "      <td>-1.859033</td>\n",
       "      <td>-0.682695</td>\n",
       "      <td>-0.572152</td>\n",
       "      <td>-0.494856</td>\n",
       "      <td>-0.29308</td>\n",
       "      <td>-0.047266</td>\n",
       "      <td>...</td>\n",
       "      <td>0.785323</td>\n",
       "      <td>-0.740634</td>\n",
       "      <td>-0.184783</td>\n",
       "      <td>3.874303</td>\n",
       "      <td>-0.103313</td>\n",
       "      <td>-0.285886</td>\n",
       "      <td>-0.063139</td>\n",
       "      <td>-0.089577</td>\n",
       "      <td>-1.551918</td>\n",
       "      <td>-1.363335</td>\n",
       "    </tr>\n",
       "    <tr>\n",
       "      <th>5</th>\n",
       "      <td>0.689469</td>\n",
       "      <td>0.518814</td>\n",
       "      <td>1.355319</td>\n",
       "      <td>-0.507197</td>\n",
       "      <td>0.947040</td>\n",
       "      <td>0.753100</td>\n",
       "      <td>1.387248</td>\n",
       "      <td>0.468851</td>\n",
       "      <td>-0.29308</td>\n",
       "      <td>-0.161040</td>\n",
       "      <td>...</td>\n",
       "      <td>1.686149</td>\n",
       "      <td>0.776834</td>\n",
       "      <td>0.540332</td>\n",
       "      <td>-0.359539</td>\n",
       "      <td>-0.103313</td>\n",
       "      <td>-0.285886</td>\n",
       "      <td>-0.063139</td>\n",
       "      <td>-0.089577</td>\n",
       "      <td>2.131647</td>\n",
       "      <td>0.157619</td>\n",
       "    </tr>\n",
       "  </tbody>\n",
       "</table>\n",
       "<p>5 rows × 35 columns</p>\n",
       "</div>"
      ],
      "text/plain": [
       "    LotFrontage   LotArea  OverallQual  OverallCond  YearBuilt  YearRemodAdd  \\\n",
       "Id                                                                             \n",
       "1     -0.202033 -0.217841     0.646073    -0.507197   1.046078      0.896679   \n",
       "2      0.501785 -0.072032    -0.063174     2.187904   0.154737     -0.395536   \n",
       "3     -0.061269  0.137173     0.646073    -0.507197   0.980053      0.848819   \n",
       "4     -0.436639 -0.078371     0.646073    -0.507197  -1.859033     -0.682695   \n",
       "5      0.689469  0.518814     1.355319    -0.507197   0.947040      0.753100   \n",
       "\n",
       "    MasVnrArea  BsmtFinSF1  BsmtFinSF2  BsmtUnfSF  ...  GarageArea  \\\n",
       "Id                                                 ...               \n",
       "1     0.525112    0.580807    -0.29308  -0.934702  ...    0.348840   \n",
       "2    -0.572152    1.177910    -0.29308  -0.629788  ...   -0.059782   \n",
       "3     0.334770    0.097856    -0.29308  -0.288467  ...    0.627446   \n",
       "4    -0.572152   -0.494856    -0.29308  -0.047266  ...    0.785323   \n",
       "5     1.387248    0.468851    -0.29308  -0.161040  ...    1.686149   \n",
       "\n",
       "    WoodDeckSF  OpenPorchSF  EnclosedPorch  3SsnPorch  ScreenPorch  PoolArea  \\\n",
       "Id                                                                             \n",
       "1    -0.740634     0.199972      -0.359539  -0.103313    -0.285886 -0.063139   \n",
       "2     1.614603    -0.702722      -0.359539  -0.103313    -0.285886 -0.063139   \n",
       "3    -0.740634    -0.081195      -0.359539  -0.103313    -0.285886 -0.063139   \n",
       "4    -0.740634    -0.184783       3.874303  -0.103313    -0.285886 -0.063139   \n",
       "5     0.776834     0.540332      -0.359539  -0.103313    -0.285886 -0.063139   \n",
       "\n",
       "     MiscVal    MoSold    YrSold  \n",
       "Id                                \n",
       "1  -0.089577 -1.551918  0.157619  \n",
       "2  -0.089577 -0.446848 -0.602858  \n",
       "3  -0.089577  1.026577  0.157619  \n",
       "4  -0.089577 -1.551918 -1.363335  \n",
       "5  -0.089577  2.131647  0.157619  \n",
       "\n",
       "[5 rows x 35 columns]"
      ]
     },
     "execution_count": 21,
     "metadata": {},
     "output_type": "execute_result"
    }
   ],
   "source": [
    "all_dummy_df.loc[:,numeric_cols].head()"
   ]
  },
  {
   "cell_type": "markdown",
   "id": "b54dbb69",
   "metadata": {},
   "source": [
    "# Step 4: 建立模型"
   ]
  },
  {
   "cell_type": "markdown",
   "id": "dfd150b8",
   "metadata": {},
   "source": [
    "把数据集分回 训练/测试集"
   ]
  },
  {
   "cell_type": "code",
   "execution_count": 22,
   "id": "9cc0559e",
   "metadata": {},
   "outputs": [
    {
     "data": {
      "text/plain": [
       "Int64Index([   1,    2,    3,    4,    5,    6,    7,    8,    9,   10,\n",
       "            ...\n",
       "            1451, 1452, 1453, 1454, 1455, 1456, 1457, 1458, 1459, 1460],\n",
       "           dtype='int64', name='Id', length=1460)"
      ]
     },
     "execution_count": 22,
     "metadata": {},
     "output_type": "execute_result"
    }
   ],
   "source": [
    "train_df.index"
   ]
  },
  {
   "cell_type": "markdown",
   "id": "217d418e",
   "metadata": {},
   "source": [
    "index: 这是pandas DataFrame的一个属性，它返回DataFrame的索引。索引在pandas中用于唯一标识每一行"
   ]
  },
  {
   "cell_type": "code",
   "execution_count": 23,
   "id": "c772582d",
   "metadata": {},
   "outputs": [],
   "source": [
    "dummy_train_df=all_dummy_df.loc[train_df.index]\n",
    "dummy_test_df=all_dummy_df.loc[test_df.index]"
   ]
  },
  {
   "cell_type": "code",
   "execution_count": 24,
   "id": "82b91502",
   "metadata": {},
   "outputs": [
    {
     "data": {
      "text/plain": [
       "((1460, 303), (1459, 303))"
      ]
     },
     "execution_count": 24,
     "metadata": {},
     "output_type": "execute_result"
    }
   ],
   "source": [
    "dummy_train_df.shape, dummy_test_df.shape"
   ]
  },
  {
   "cell_type": "markdown",
   "id": "18dafea2",
   "metadata": {},
   "source": [
    "**Ridge Regression**"
   ]
  },
  {
   "cell_type": "markdown",
   "id": "9b352f43",
   "metadata": {},
   "source": [
    "用Ridge Regression模型来跑一遍看看。（对于多因子的数据集，这种模型可以方便地把所有的var都无脑的放进去）"
   ]
  },
  {
   "cell_type": "code",
   "execution_count": 25,
   "id": "da5db5ec",
   "metadata": {},
   "outputs": [],
   "source": [
    "from sklearn.linear_model import Ridge\n",
    "from sklearn.model_selection import cross_val_score"
   ]
  },
  {
   "cell_type": "markdown",
   "id": "8f135308",
   "metadata": {},
   "source": [
    "这一步不是很必要，只是把DF转换成Numby Array，这跟Sklearn更加陪"
   ]
  },
  {
   "cell_type": "code",
   "execution_count": 26,
   "id": "161c0b26",
   "metadata": {},
   "outputs": [],
   "source": [
    "X_train=dummy_train_df.values\n",
    "X_test=dummy_test_df.values"
   ]
  },
  {
   "cell_type": "markdown",
   "id": "10038d19",
   "metadata": {},
   "source": [
    "**做一点高级的Ensemble**"
   ]
  },
  {
   "cell_type": "markdown",
   "id": "f40b2bc6",
   "metadata": {},
   "source": [
    "一般来说，单个分类器的效果真的是很有限。我们会倾向于把N多的分类器合在一起，做一个“综合分类器\"以达到最好的效果。<br>\n",
    "我们从刚刚的试验中得知，Ridge(alpha=15)给了我们最好的结果"
   ]
  },
  {
   "cell_type": "code",
   "execution_count": 27,
   "id": "e4b72b4c",
   "metadata": {},
   "outputs": [],
   "source": [
    "from sklearn.linear_model import Ridge\n",
    "ridge=Ridge(15)"
   ]
  },
  {
   "cell_type": "markdown",
   "id": "593f55a0",
   "metadata": {},
   "source": [
    "**Bagging**"
   ]
  },
  {
   "cell_type": "markdown",
   "id": "78391549",
   "metadata": {},
   "source": [
    "Bagging把很多的小的分类器放在一起，每个train随机一部分数据，然后把它们的最终结果综合起来（多数投票制）"
   ]
  },
  {
   "cell_type": "markdown",
   "id": "ceb56b4e",
   "metadata": {},
   "source": [
    "Sklearn已经直接提供了这套架构，我们直接调用就行："
   ]
  },
  {
   "cell_type": "code",
   "execution_count": 28,
   "id": "8e2921da",
   "metadata": {},
   "outputs": [],
   "source": [
    "from sklearn.ensemble import BaggingRegressor\n",
    "from sklearn.model_selection import cross_val_score"
   ]
  },
  {
   "cell_type": "markdown",
   "id": "f87b9c7b",
   "metadata": {},
   "source": [
    "在这里，我们用CV结果来测试不同的分类器个数对最后结果的影响。<br>\n",
    "注意，我们在部署Bagging的时候，要把它的函数baseestimator里填上你的小分类器(ridge)"
   ]
  },
  {
   "cell_type": "code",
   "execution_count": 29,
   "id": "80f06ec2",
   "metadata": {},
   "outputs": [],
   "source": [
    "params=[1,10,15,20,25,30,40]\n",
    "test_scores=[]\n",
    "for param in params:\n",
    "    clf=BaggingRegressor(n_estimators=param,base_estimator=ridge)\n",
    "    test_score=np.sqrt(-cross_val_score(clf,X_train,y_train,cv=10,scoring='neg_mean_squared_error'))\n",
    "    # print(test_score) 加入这行代码后确实可以看到输出结果每次都是十个数\n",
    "    test_scores.append(np.mean(test_score))"
   ]
  },
  {
   "cell_type": "code",
   "execution_count": 30,
   "id": "e94f17ae",
   "metadata": {},
   "outputs": [
    {
     "name": "stdout",
     "output_type": "stream",
     "text": [
      "[0.1452292921574902, 0.13323890039139533, 0.13443661604474527, 0.13415187650931173, 0.13320801750885058, 0.13384559059541828, 0.1329951771568572]\n"
     ]
    }
   ],
   "source": [
    "print(test_scores)"
   ]
  },
  {
   "cell_type": "code",
   "execution_count": 31,
   "id": "60f78abe",
   "metadata": {},
   "outputs": [
    {
     "data": {
      "image/png": "[encoded data removed]",
      "text/plain": [
       "<Figure size 640x480 with 1 Axes>"
      ]
     },
     "metadata": {},
     "output_type": "display_data"
    }
   ],
   "source": [
    "import matplotlib.pyplot as plt\n",
    "%matplotlib inline\n",
    "plt.plot(params,test_scores)\n",
    "plt.title(\"n_estimator vs CV Error\");"
   ]
  },
  {
   "cell_type": "markdown",
   "id": "b43cf81e",
   "metadata": {},
   "source": [
    "可见，前一个版本中，ridge最优结果也就是0.135;而这里，我们使用15个小ridge分类器的bagging，达到了低于0.134的结果。"
   ]
  },
  {
   "cell_type": "markdown",
   "id": "67ae7b12",
   "metadata": {},
   "source": [
    "当然了，你如果并没有提前测试过ridge模型，你也可以用Bagging自带的DecisionTree模型:<br>\n",
    "代码是一样的，把base estimator给删去即可"
   ]
  },
  {
   "cell_type": "code",
   "execution_count": 32,
   "id": "b120871b",
   "metadata": {},
   "outputs": [],
   "source": [
    "params=[1,10,15,20,25,30,40]\n",
    "test_scores=[]\n",
    "for param in params:\n",
    "    clf=BaggingRegressor(n_estimators=param)\n",
    "    test_score=np.sqrt(-cross_val_score(clf,X_train,y_train,cv=10,scoring='neg_mean_squared_error'))\n",
    "    test_scores.append(np.mean(test_score))"
   ]
  },
  {
   "cell_type": "code",
   "execution_count": 33,
   "id": "aff0b113",
   "metadata": {},
   "outputs": [
    {
     "data": {
      "image/png": "[encoded data removed]",
      "text/plain": [
       "<Figure size 640x480 with 1 Axes>"
      ]
     },
     "metadata": {},
     "output_type": "display_data"
    }
   ],
   "source": [
    "import matplotlib.pyplot as plt\n",
    "%matplotlib inline\n",
    "plt.plot(params,test_scores)\n",
    "plt.title(\"n_estimator vs CV Error\");"
   ]
  },
  {
   "cell_type": "markdown",
   "id": "d62ae442",
   "metadata": {},
   "source": [
    "咦，看来单纯用DT不太灵光的。最好的结果也就是0.140"
   ]
  },
  {
   "cell_type": "markdown",
   "id": "2c6e3266",
   "metadata": {},
   "source": [
    "**Boosting**<br>\n",
    "Boosting比Bagging理论上更高级点，它也是揽来一把的分类器。但是把他们线性排列。下一个分类器把上一个分类器分类得不好的地方加上更高的权重，这样下一个分类器就能在这个部分学得更加“深刻”。"
   ]
  },
  {
   "cell_type": "code",
   "execution_count": 34,
   "id": "45a2bb60",
   "metadata": {},
   "outputs": [],
   "source": [
    "from sklearn.ensemble import AdaBoostRegressor"
   ]
  },
  {
   "cell_type": "code",
   "execution_count": 35,
   "id": "3adaa4b6",
   "metadata": {},
   "outputs": [],
   "source": [
    "params=[1,10,15,20,25,30,40]\n",
    "test_scores=[]\n",
    "for param in params:\n",
    "    clf=AdaBoostRegressor(n_estimators=param,base_estimator=ridge)\n",
    "    test_score=np.sqrt(-cross_val_score(clf,X_train,y_train,cv=10,scoring='neg_mean_squared_error'))\n",
    "    test_scores.append(np.mean(test_score))"
   ]
  },
  {
   "cell_type": "code",
   "execution_count": 36,
   "id": "972efbd6",
   "metadata": {},
   "outputs": [
    {
     "data": {
      "image/png": "[encoded data removed]",
      "text/plain": [
       "<Figure size 640x480 with 1 Axes>"
      ]
     },
     "metadata": {},
     "output_type": "display_data"
    }
   ],
   "source": [
    "import matplotlib.pyplot as plt\n",
    "%matplotlib inline\n",
    "plt.plot(params,test_scores)\n",
    "plt.title(\"n_estimator vs CV Error\");"
   ]
  },
  {
   "cell_type": "markdown",
   "id": "97c1afc6",
   "metadata": {},
   "source": [
    "Adaboost+Ridge在这里，1个小分类器的情况下，也是达到了接近\n",
    "0.135的效果。"
   ]
  },
  {
   "cell_type": "code",
   "execution_count": 37,
   "id": "18637c22",
   "metadata": {},
   "outputs": [],
   "source": [
    "params=[1,10,15,20,25,30,40]\n",
    "test_scores=[]\n",
    "for param in params:\n",
    "    clf=AdaBoostRegressor(n_estimators=param,base_estimator=ridge)\n",
    "    test_score=np.sqrt(-cross_val_score(clf,X_train,y_train,cv=5,scoring='neg_mean_squared_error'))\n",
    "    test_scores.append(np.mean(test_score))"
   ]
  },
  {
   "cell_type": "code",
   "execution_count": 38,
   "id": "a62cd95b",
   "metadata": {},
   "outputs": [
    {
     "data": {
      "image/png": "[encoded data removed]",
      "text/plain": [
       "<Figure size 640x480 with 1 Axes>"
      ]
     },
     "metadata": {},
     "output_type": "display_data"
    }
   ],
   "source": [
    "import matplotlib.pyplot as plt\n",
    "%matplotlib inline\n",
    "plt.plot(params,test_scores)\n",
    "plt.title(\"n_estimator vs CV Error\");"
   ]
  },
  {
   "cell_type": "markdown",
   "id": "9ead477b",
   "metadata": {},
   "source": [
    "同理，这里，你也可以不必输入Base_estimator，使用Adaboost自带的Decision Tree"
   ]
  },
  {
   "cell_type": "code",
   "execution_count": 39,
   "id": "856cbb61",
   "metadata": {},
   "outputs": [],
   "source": [
    "params=[1,10,15,20,25,30,40]\n",
    "test_scores=[]\n",
    "for param in params:\n",
    "    clf=AdaBoostRegressor(n_estimators=param)\n",
    "    test_score=np.sqrt(-cross_val_score(clf,X_train,y_train,cv=5,scoring='neg_mean_squared_error'))\n",
    "    test_scores.append(np.mean(test_score))"
   ]
  },
  {
   "cell_type": "code",
   "execution_count": 40,
   "id": "8edeb72e",
   "metadata": {},
   "outputs": [
    {
     "data": {
      "image/png": "[encoded data removed]",
      "text/plain": [
       "<Figure size 640x480 with 1 Axes>"
      ]
     },
     "metadata": {},
     "output_type": "display_data"
    }
   ],
   "source": [
    "import matplotlib.pyplot as plt\n",
    "%matplotlib inline\n",
    "plt.plot(params,test_scores)\n",
    "plt.title(\"n_estimator vs CV Error\");"
   ]
  },
  {
   "cell_type": "markdown",
   "id": "e4bb52b6",
   "metadata": {},
   "source": [
    "**XGBoost**<br>\n",
    "最后，我们来看看巨牛逼的XGBoost，外号:Kaggle神器<br>\n",
    "这依旧是一款Boosting框架的模型，但是却做了很多的改进，"
   ]
  },
  {
   "cell_type": "code",
   "execution_count": 41,
   "id": "9e8639db",
   "metadata": {},
   "outputs": [],
   "source": [
    "from xgboost import XGBRegressor"
   ]
  },
  {
   "cell_type": "markdown",
   "id": "a0b9da06",
   "metadata": {},
   "source": [
    "用Sklearn自带的cross validation方法来测试模型"
   ]
  },
  {
   "cell_type": "code",
   "execution_count": 44,
   "id": "9d1907f9",
   "metadata": {},
   "outputs": [],
   "source": [
    "params=[1,2,3,4,5,6]\n",
    "test_scores=[]\n",
    "for param in params:\n",
    "    clf=XGBRegressor(max_depth=param)\n",
    "    test_score=np.sqrt(-cross_val_score(clf,X_train,y_train,cv=5,scoring='neg_mean_squared_error'))\n",
    "    test_scores.append(np.mean(test_score))"
   ]
  },
  {
   "cell_type": "markdown",
   "id": "0a8da668",
   "metadata": {},
   "source": [
    "存下所有的CV的值，看看哪个alpha值更好(也就是【调参数】)"
   ]
  },
  {
   "cell_type": "code",
   "execution_count": 45,
   "id": "fd2dd5cd",
   "metadata": {},
   "outputs": [
    {
     "data": {
      "image/png": "[encoded data removed]",
      "text/plain": [
       "<Figure size 640x480 with 1 Axes>"
      ]
     },
     "metadata": {},
     "output_type": "display_data"
    }
   ],
   "source": [
    "import matplotlib.pyplot as plt\n",
    "%matplotlib inline\n",
    "plt.plot(params,test_scores)\n",
    "plt.title(\"max_depth vs CV Error\");"
   ]
  },
  {
   "cell_type": "markdown",
   "id": "6ff10a68",
   "metadata": {},
   "source": [
    "惊了，深度为3的时候，错误率缩小到0.127<br>\n",
    "这就是为什么，浮躁的竞赛圈，人人都在用XHBoost"
   ]
  },
  {
   "cell_type": "code",
   "execution_count": null,
   "id": "f2669faf",
   "metadata": {},
   "outputs": [],
   "source": []
  },
  {
   "cell_type": "code",
   "execution_count": null,
   "id": "d4f4bd44",
   "metadata": {},
   "outputs": [],
   "source": []
  },
  {
   "cell_type": "code",
   "execution_count": null,
   "id": "c2176fbe",
   "metadata": {},
   "outputs": [],
   "source": []
  },
  {
   "cell_type": "code",
   "execution_count": null,
   "id": "0d8851bb",
   "metadata": {},
   "outputs": [],
   "source": []
  },
  {
   "cell_type": "code",
   "execution_count": null,
   "id": "c3e83631",
   "metadata": {},
   "outputs": [],
   "source": []
  }
 ],
 "metadata": {
  "kernelspec": {
   "display_name": "Python 3 (ipykernel)",
   "language": "python",
   "name": "python3"
  },
  "language_info": {
   "codemirror_mode": {
    "name": "ipython",
    "version": 3
   },
   "file_extension": ".py",
   "mimetype": "text/x-python",
   "name": "python",
   "nbconvert_exporter": "python",
   "pygments_lexer": "ipython3",
   "version": "3.9.13"
  }
 },
 "nbformat": 4,
 "nbformat_minor": 5
}
