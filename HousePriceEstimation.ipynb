{
 "cells": [
  {
   "cell_type": "markdown",
   "id": "b481c256",
   "metadata": {},
   "source": [
    "# Step 1: 检视源数据集"
   ]
  },
  {
   "cell_type": "code",
   "execution_count": 1,
   "id": "cd0a6b90",
   "metadata": {},
   "outputs": [],
   "source": [
    "import numpy as np"
   ]
  },
  {
   "cell_type": "code",
   "execution_count": 2,
   "id": "98cdd162",
   "metadata": {},
   "outputs": [],
   "source": [
    "import pandas as pd"
   ]
  },
  {
   "cell_type": "markdown",
   "id": "bdc4059c",
   "metadata": {},
   "source": [
    "读入数据\n",
    "一般来说源数据的index那一栏没什么用，我们可以用来作为我们pandas dataframe的index。这样之后要是检索起来也省事儿。<br>\n",
    "有人的地方就有鄙视链。跟知乎一样。Kaggle的也是个处处呵呵的危险地带。Kaggle上默认把数据放在input文件夹下。所以我们没事儿写个教程什么的，也可以依据这个convention来，显得自己很有逼格。"
   ]
  },
  {
   "cell_type": "code",
   "execution_count": 3,
   "id": "e8ed4409",
   "metadata": {},
   "outputs": [],
   "source": [
    "train_df=pd.read_csv('./input/train.csv', index_col=0)\n",
    "test_df=pd.read_csv('./input/test.csv',index_col=0)"
   ]
  },
  {
   "cell_type": "markdown",
   "id": "dba4d9de",
   "metadata": {},
   "source": [
    "../ 是父路径, ./是子路径"
   ]
  },
  {
   "cell_type": "markdown",
   "id": "2eb1cf0c",
   "metadata": {},
   "source": [
    "**检视源数据**"
   ]
  },
  {
   "cell_type": "code",
   "execution_count": 4,
   "id": "5b61124d",
   "metadata": {},
   "outputs": [
    {
     "data": {
      "text/html": [
       "<div>\n",
       "<style scoped>\n",
       "    .dataframe tbody tr th:only-of-type {\n",
       "        vertical-align: middle;\n",
       "    }\n",
       "\n",
       "    .dataframe tbody tr th {\n",
       "        vertical-align: top;\n",
       "    }\n",
       "\n",
       "    .dataframe thead th {\n",
       "        text-align: right;\n",
       "    }\n",
       "</style>\n",
       "<table border=\"1\" class=\"dataframe\">\n",
       "  <thead>\n",
       "    <tr style=\"text-align: right;\">\n",
       "      <th></th>\n",
       "      <th>MSSubClass</th>\n",
       "      <th>MSZoning</th>\n",
       "      <th>LotFrontage</th>\n",
       "      <th>LotArea</th>\n",
       "      <th>Street</th>\n",
       "      <th>Alley</th>\n",
       "      <th>LotShape</th>\n",
       "      <th>LandContour</th>\n",
       "      <th>Utilities</th>\n",
       "      <th>LotConfig</th>\n",
       "      <th>...</th>\n",
       "      <th>PoolArea</th>\n",
       "      <th>PoolQC</th>\n",
       "      <th>Fence</th>\n",
       "      <th>MiscFeature</th>\n",
       "      <th>MiscVal</th>\n",
       "      <th>MoSold</th>\n",
       "      <th>YrSold</th>\n",
       "      <th>SaleType</th>\n",
       "      <th>SaleCondition</th>\n",
       "      <th>SalePrice</th>\n",
       "    </tr>\n",
       "    <tr>\n",
       "      <th>Id</th>\n",
       "      <th></th>\n",
       "      <th></th>\n",
       "      <th></th>\n",
       "      <th></th>\n",
       "      <th></th>\n",
       "      <th></th>\n",
       "      <th></th>\n",
       "      <th></th>\n",
       "      <th></th>\n",
       "      <th></th>\n",
       "      <th></th>\n",
       "      <th></th>\n",
       "      <th></th>\n",
       "      <th></th>\n",
       "      <th></th>\n",
       "      <th></th>\n",
       "      <th></th>\n",
       "      <th></th>\n",
       "      <th></th>\n",
       "      <th></th>\n",
       "      <th></th>\n",
       "    </tr>\n",
       "  </thead>\n",
       "  <tbody>\n",
       "    <tr>\n",
       "      <th>1</th>\n",
       "      <td>60</td>\n",
       "      <td>RL</td>\n",
       "      <td>65.0</td>\n",
       "      <td>8450</td>\n",
       "      <td>Pave</td>\n",
       "      <td>NaN</td>\n",
       "      <td>Reg</td>\n",
       "      <td>Lvl</td>\n",
       "      <td>AllPub</td>\n",
       "      <td>Inside</td>\n",
       "      <td>...</td>\n",
       "      <td>0</td>\n",
       "      <td>NaN</td>\n",
       "      <td>NaN</td>\n",
       "      <td>NaN</td>\n",
       "      <td>0</td>\n",
       "      <td>2</td>\n",
       "      <td>2008</td>\n",
       "      <td>WD</td>\n",
       "      <td>Normal</td>\n",
       "      <td>208500</td>\n",
       "    </tr>\n",
       "    <tr>\n",
       "      <th>2</th>\n",
       "      <td>20</td>\n",
       "      <td>RL</td>\n",
       "      <td>80.0</td>\n",
       "      <td>9600</td>\n",
       "      <td>Pave</td>\n",
       "      <td>NaN</td>\n",
       "      <td>Reg</td>\n",
       "      <td>Lvl</td>\n",
       "      <td>AllPub</td>\n",
       "      <td>FR2</td>\n",
       "      <td>...</td>\n",
       "      <td>0</td>\n",
       "      <td>NaN</td>\n",
       "      <td>NaN</td>\n",
       "      <td>NaN</td>\n",
       "      <td>0</td>\n",
       "      <td>5</td>\n",
       "      <td>2007</td>\n",
       "      <td>WD</td>\n",
       "      <td>Normal</td>\n",
       "      <td>181500</td>\n",
       "    </tr>\n",
       "    <tr>\n",
       "      <th>3</th>\n",
       "      <td>60</td>\n",
       "      <td>RL</td>\n",
       "      <td>68.0</td>\n",
       "      <td>11250</td>\n",
       "      <td>Pave</td>\n",
       "      <td>NaN</td>\n",
       "      <td>IR1</td>\n",
       "      <td>Lvl</td>\n",
       "      <td>AllPub</td>\n",
       "      <td>Inside</td>\n",
       "      <td>...</td>\n",
       "      <td>0</td>\n",
       "      <td>NaN</td>\n",
       "      <td>NaN</td>\n",
       "      <td>NaN</td>\n",
       "      <td>0</td>\n",
       "      <td>9</td>\n",
       "      <td>2008</td>\n",
       "      <td>WD</td>\n",
       "      <td>Normal</td>\n",
       "      <td>223500</td>\n",
       "    </tr>\n",
       "    <tr>\n",
       "      <th>4</th>\n",
       "      <td>70</td>\n",
       "      <td>RL</td>\n",
       "      <td>60.0</td>\n",
       "      <td>9550</td>\n",
       "      <td>Pave</td>\n",
       "      <td>NaN</td>\n",
       "      <td>IR1</td>\n",
       "      <td>Lvl</td>\n",
       "      <td>AllPub</td>\n",
       "      <td>Corner</td>\n",
       "      <td>...</td>\n",
       "      <td>0</td>\n",
       "      <td>NaN</td>\n",
       "      <td>NaN</td>\n",
       "      <td>NaN</td>\n",
       "      <td>0</td>\n",
       "      <td>2</td>\n",
       "      <td>2006</td>\n",
       "      <td>WD</td>\n",
       "      <td>Abnorml</td>\n",
       "      <td>140000</td>\n",
       "    </tr>\n",
       "    <tr>\n",
       "      <th>5</th>\n",
       "      <td>60</td>\n",
       "      <td>RL</td>\n",
       "      <td>84.0</td>\n",
       "      <td>14260</td>\n",
       "      <td>Pave</td>\n",
       "      <td>NaN</td>\n",
       "      <td>IR1</td>\n",
       "      <td>Lvl</td>\n",
       "      <td>AllPub</td>\n",
       "      <td>FR2</td>\n",
       "      <td>...</td>\n",
       "      <td>0</td>\n",
       "      <td>NaN</td>\n",
       "      <td>NaN</td>\n",
       "      <td>NaN</td>\n",
       "      <td>0</td>\n",
       "      <td>12</td>\n",
       "      <td>2008</td>\n",
       "      <td>WD</td>\n",
       "      <td>Normal</td>\n",
       "      <td>250000</td>\n",
       "    </tr>\n",
       "  </tbody>\n",
       "</table>\n",
       "<p>5 rows × 80 columns</p>\n",
       "</div>"
      ],
      "text/plain": [
       "    MSSubClass MSZoning  LotFrontage  LotArea Street Alley LotShape  \\\n",
       "Id                                                                    \n",
       "1           60       RL         65.0     8450   Pave   NaN      Reg   \n",
       "2           20       RL         80.0     9600   Pave   NaN      Reg   \n",
       "3           60       RL         68.0    11250   Pave   NaN      IR1   \n",
       "4           70       RL         60.0     9550   Pave   NaN      IR1   \n",
       "5           60       RL         84.0    14260   Pave   NaN      IR1   \n",
       "\n",
       "   LandContour Utilities LotConfig  ... PoolArea PoolQC Fence MiscFeature  \\\n",
       "Id                                  ...                                     \n",
       "1          Lvl    AllPub    Inside  ...        0    NaN   NaN         NaN   \n",
       "2          Lvl    AllPub       FR2  ...        0    NaN   NaN         NaN   \n",
       "3          Lvl    AllPub    Inside  ...        0    NaN   NaN         NaN   \n",
       "4          Lvl    AllPub    Corner  ...        0    NaN   NaN         NaN   \n",
       "5          Lvl    AllPub       FR2  ...        0    NaN   NaN         NaN   \n",
       "\n",
       "   MiscVal MoSold  YrSold  SaleType  SaleCondition  SalePrice  \n",
       "Id                                                             \n",
       "1        0      2    2008        WD         Normal     208500  \n",
       "2        0      5    2007        WD         Normal     181500  \n",
       "3        0      9    2008        WD         Normal     223500  \n",
       "4        0      2    2006        WD        Abnorml     140000  \n",
       "5        0     12    2008        WD         Normal     250000  \n",
       "\n",
       "[5 rows x 80 columns]"
      ]
     },
     "execution_count": 4,
     "metadata": {},
     "output_type": "execute_result"
    }
   ],
   "source": [
    "train_df.head()"
   ]
  },
  {
   "cell_type": "markdown",
   "id": "96f31a89",
   "metadata": {},
   "source": [
    ".head() 是前五行"
   ]
  },
  {
   "cell_type": "markdown",
   "id": "55429383",
   "metadata": {},
   "source": [
    "# Step 2: 合并数据"
   ]
  },
  {
   "cell_type": "markdown",
   "id": "7439efaa",
   "metadata": {},
   "source": [
    "这么做主要是为了用DF进行数据预处理的时候更加方便。等所有的需要的预处理进行完之后，我们再把他们分隔开。<br>\n",
    "首先，SalePrice作为我们的训练目标，只会出现在训练集中，不会在测试集中(要不然你测试什么?)。所以，我们先把SalePrice这一列这给拿出来，不让它碍事儿。"
   ]
  },
  {
   "cell_type": "markdown",
   "id": "6906cc42",
   "metadata": {},
   "source": [
    "我们先看一下SalePrice长什么样子"
   ]
  },
  {
   "cell_type": "code",
   "execution_count": 5,
   "id": "13ee307b",
   "metadata": {},
   "outputs": [
    {
     "data": {
      "text/plain": [
       "array([[<AxesSubplot:title={'center':'price'}>,\n",
       "        <AxesSubplot:title={'center':'log(price+1)'}>]], dtype=object)"
      ]
     },
     "execution_count": 5,
     "metadata": {},
     "output_type": "execute_result"
    },
    {
     "data": {
      "image/png": "[encoded data removed]",
      "text/plain": [
       "<Figure size 640x480 with 2 Axes>"
      ]
     },
     "metadata": {},
     "output_type": "display_data"
    }
   ],
   "source": [
    "%matplotlib inline\n",
    "prices=pd.DataFrame({\"price\":train_df[\"SalePrice\"],\"log(price+1)\":np.log1p(train_df[\"SalePrice\"])})\n",
    "prices.hist()"
   ]
  },
  {
   "cell_type": "markdown",
   "id": "112ea46b",
   "metadata": {},
   "source": [
    "可见，label本身并不平滑。为了我们分类器的学习更加准确，我们会首先把label给“平滑化”(正态化)<br>\n",
    "这一步大部分同学会miss掉，导致自己的结果总是达不到一定标准。<br>\n",
    "这里我们使用最有逼格的log1p,也就是log(x+1)，避免了复值的问题。<br>\n",
    "记住哟，如果我们这里把数据都给平滑化了，那么最后算结果的时候，要记得把预测到的平滑数据给变回去。"
   ]
  },
  {
   "cell_type": "markdown",
   "id": "0cb4f6d4",
   "metadata": {},
   "source": [
    "按照“怎么来的怎么去”原则，log1p()就需要expm1();同理，lig就需要exp(), ...etx."
   ]
  },
  {
   "cell_type": "code",
   "execution_count": 6,
   "id": "26ee2cda",
   "metadata": {},
   "outputs": [
    {
     "data": {
      "text/plain": [
       "Id\n",
       "1    12.247699\n",
       "2    12.109016\n",
       "3    12.317171\n",
       "4    11.849405\n",
       "5    12.429220\n",
       "Name: SalePrice, dtype: float64"
      ]
     },
     "execution_count": 6,
     "metadata": {},
     "output_type": "execute_result"
    }
   ],
   "source": [
    "y_train=np.log1p(train_df.pop('SalePrice'))\n",
    "y_train.head()"
   ]
  },
  {
   "cell_type": "markdown",
   "id": "e4224141",
   "metadata": {},
   "source": [
    "然后我们把剩下的部分合并起来"
   ]
  },
  {
   "cell_type": "code",
   "execution_count": 7,
   "id": "649e3e31",
   "metadata": {},
   "outputs": [],
   "source": [
    "all_df=pd.concat((train_df,test_df),axis=0)"
   ]
  },
  {
   "cell_type": "markdown",
   "id": "515e68ee",
   "metadata": {},
   "source": [
    "此刻，我们可以看到all_df就是我们合在一起的DF"
   ]
  },
  {
   "cell_type": "code",
   "execution_count": 8,
   "id": "555ab02f",
   "metadata": {},
   "outputs": [
    {
     "data": {
      "text/plain": [
       "(2919, 79)"
      ]
     },
     "execution_count": 8,
     "metadata": {},
     "output_type": "execute_result"
    }
   ],
   "source": [
    "all_df.shape"
   ]
  },
  {
   "cell_type": "markdown",
   "id": "e35b94ee",
   "metadata": {},
   "source": [
    "# Step 3: 变量转化"
   ]
  },
  {
   "cell_type": "markdown",
   "id": "f32bc94f",
   "metadata": {},
   "source": [
    "类似「特征工程」。就是把不方便处理或者不unify的数据给统一了。<br>\n",
    "正确化变量属性<br>\n",
    "首先，我们注意到，MSSubClass的值其实应该是一个category,但是Pandas是不会懂这些事儿的。使用DF的时候，这类数字符号会被默认记成数字。<br>\n",
    "这种东西就很有误导性，我们需要把它变回成string"
   ]
  },
  {
   "cell_type": "code",
   "execution_count": 9,
   "id": "6e4d26bc",
   "metadata": {},
   "outputs": [
    {
     "data": {
      "text/plain": [
       "dtype('int64')"
      ]
     },
     "execution_count": 9,
     "metadata": {},
     "output_type": "execute_result"
    }
   ],
   "source": [
    "all_df['MSSubClass'].dtypes"
   ]
  },
  {
   "cell_type": "code",
   "execution_count": 10,
   "id": "b101296f",
   "metadata": {},
   "outputs": [],
   "source": [
    "all_df['MSSubClass']=all_df['MSSubClass'].astype(str)"
   ]
  },
  {
   "cell_type": "markdown",
   "id": "d1eced58",
   "metadata": {},
   "source": [
    "变成str以后，做个统计，就很清楚了"
   ]
  },
  {
   "cell_type": "code",
   "execution_count": 11,
   "id": "257f92cd",
   "metadata": {},
   "outputs": [
    {
     "data": {
      "text/plain": [
       "20     1079\n",
       "60      575\n",
       "50      287\n",
       "120     182\n",
       "30      139\n",
       "70      128\n",
       "160     128\n",
       "80      118\n",
       "90      109\n",
       "190      61\n",
       "85       48\n",
       "75       23\n",
       "45       18\n",
       "180      17\n",
       "40        6\n",
       "150       1\n",
       "Name: MSSubClass, dtype: int64"
      ]
     },
     "execution_count": 11,
     "metadata": {},
     "output_type": "execute_result"
    }
   ],
   "source": [
    "all_df['MSSubClass'].value_counts()"
   ]
  },
  {
   "cell_type": "markdown",
   "id": "0569c712",
   "metadata": {},
   "source": [
    "dtype: int64  指的是后面这一列的数据格式"
   ]
  },
  {
   "cell_type": "markdown",
   "id": "f401a40f",
   "metadata": {},
   "source": [
    "把category的变量转变成numerical表达形式<br>\n",
    "当我们用numerical来表达categorical的时候，要注意，数字本身有大小的含义，所以乱用数字会给之后的模型学习带来麻烦。于是我们可以用One-Hot的方法来表达category。<br>\n",
    "pandas自带的get dummies方法，可以帮你一键做到One-Hot。"
   ]
  },
  {
   "cell_type": "code",
   "execution_count": 12,
   "id": "0e261c90",
   "metadata": {},
   "outputs": [
    {
     "data": {
      "text/html": [
       "<div>\n",
       "<style scoped>\n",
       "    .dataframe tbody tr th:only-of-type {\n",
       "        vertical-align: middle;\n",
       "    }\n",
       "\n",
       "    .dataframe tbody tr th {\n",
       "        vertical-align: top;\n",
       "    }\n",
       "\n",
       "    .dataframe thead th {\n",
       "        text-align: right;\n",
       "    }\n",
       "</style>\n",
       "<table border=\"1\" class=\"dataframe\">\n",
       "  <thead>\n",
       "    <tr style=\"text-align: right;\">\n",
       "      <th></th>\n",
       "      <th>MSSubClass_120</th>\n",
       "      <th>MSSubClass_150</th>\n",
       "      <th>MSSubClass_160</th>\n",
       "      <th>MSSubClass_180</th>\n",
       "      <th>MSSubClass_190</th>\n",
       "      <th>MSSubClass_20</th>\n",
       "      <th>MSSubClass_30</th>\n",
       "      <th>MSSubClass_40</th>\n",
       "      <th>MSSubClass_45</th>\n",
       "      <th>MSSubClass_50</th>\n",
       "      <th>MSSubClass_60</th>\n",
       "      <th>MSSubClass_70</th>\n",
       "      <th>MSSubClass_75</th>\n",
       "      <th>MSSubClass_80</th>\n",
       "      <th>MSSubClass_85</th>\n",
       "      <th>MSSubClass_90</th>\n",
       "    </tr>\n",
       "    <tr>\n",
       "      <th>Id</th>\n",
       "      <th></th>\n",
       "      <th></th>\n",
       "      <th></th>\n",
       "      <th></th>\n",
       "      <th></th>\n",
       "      <th></th>\n",
       "      <th></th>\n",
       "      <th></th>\n",
       "      <th></th>\n",
       "      <th></th>\n",
       "      <th></th>\n",
       "      <th></th>\n",
       "      <th></th>\n",
       "      <th></th>\n",
       "      <th></th>\n",
       "      <th></th>\n",
       "    </tr>\n",
       "  </thead>\n",
       "  <tbody>\n",
       "    <tr>\n",
       "      <th>1</th>\n",
       "      <td>0</td>\n",
       "      <td>0</td>\n",
       "      <td>0</td>\n",
       "      <td>0</td>\n",
       "      <td>0</td>\n",
       "      <td>0</td>\n",
       "      <td>0</td>\n",
       "      <td>0</td>\n",
       "      <td>0</td>\n",
       "      <td>0</td>\n",
       "      <td>1</td>\n",
       "      <td>0</td>\n",
       "      <td>0</td>\n",
       "      <td>0</td>\n",
       "      <td>0</td>\n",
       "      <td>0</td>\n",
       "    </tr>\n",
       "    <tr>\n",
       "      <th>2</th>\n",
       "      <td>0</td>\n",
       "      <td>0</td>\n",
       "      <td>0</td>\n",
       "      <td>0</td>\n",
       "      <td>0</td>\n",
       "      <td>1</td>\n",
       "      <td>0</td>\n",
       "      <td>0</td>\n",
       "      <td>0</td>\n",
       "      <td>0</td>\n",
       "      <td>0</td>\n",
       "      <td>0</td>\n",
       "      <td>0</td>\n",
       "      <td>0</td>\n",
       "      <td>0</td>\n",
       "      <td>0</td>\n",
       "    </tr>\n",
       "    <tr>\n",
       "      <th>3</th>\n",
       "      <td>0</td>\n",
       "      <td>0</td>\n",
       "      <td>0</td>\n",
       "      <td>0</td>\n",
       "      <td>0</td>\n",
       "      <td>0</td>\n",
       "      <td>0</td>\n",
       "      <td>0</td>\n",
       "      <td>0</td>\n",
       "      <td>0</td>\n",
       "      <td>1</td>\n",
       "      <td>0</td>\n",
       "      <td>0</td>\n",
       "      <td>0</td>\n",
       "      <td>0</td>\n",
       "      <td>0</td>\n",
       "    </tr>\n",
       "    <tr>\n",
       "      <th>4</th>\n",
       "      <td>0</td>\n",
       "      <td>0</td>\n",
       "      <td>0</td>\n",
       "      <td>0</td>\n",
       "      <td>0</td>\n",
       "      <td>0</td>\n",
       "      <td>0</td>\n",
       "      <td>0</td>\n",
       "      <td>0</td>\n",
       "      <td>0</td>\n",
       "      <td>0</td>\n",
       "      <td>1</td>\n",
       "      <td>0</td>\n",
       "      <td>0</td>\n",
       "      <td>0</td>\n",
       "      <td>0</td>\n",
       "    </tr>\n",
       "    <tr>\n",
       "      <th>5</th>\n",
       "      <td>0</td>\n",
       "      <td>0</td>\n",
       "      <td>0</td>\n",
       "      <td>0</td>\n",
       "      <td>0</td>\n",
       "      <td>0</td>\n",
       "      <td>0</td>\n",
       "      <td>0</td>\n",
       "      <td>0</td>\n",
       "      <td>0</td>\n",
       "      <td>1</td>\n",
       "      <td>0</td>\n",
       "      <td>0</td>\n",
       "      <td>0</td>\n",
       "      <td>0</td>\n",
       "      <td>0</td>\n",
       "    </tr>\n",
       "  </tbody>\n",
       "</table>\n",
       "</div>"
      ],
      "text/plain": [
       "    MSSubClass_120  MSSubClass_150  MSSubClass_160  MSSubClass_180  \\\n",
       "Id                                                                   \n",
       "1                0               0               0               0   \n",
       "2                0               0               0               0   \n",
       "3                0               0               0               0   \n",
       "4                0               0               0               0   \n",
       "5                0               0               0               0   \n",
       "\n",
       "    MSSubClass_190  MSSubClass_20  MSSubClass_30  MSSubClass_40  \\\n",
       "Id                                                                \n",
       "1                0              0              0              0   \n",
       "2                0              1              0              0   \n",
       "3                0              0              0              0   \n",
       "4                0              0              0              0   \n",
       "5                0              0              0              0   \n",
       "\n",
       "    MSSubClass_45  MSSubClass_50  MSSubClass_60  MSSubClass_70  MSSubClass_75  \\\n",
       "Id                                                                              \n",
       "1               0              0              1              0              0   \n",
       "2               0              0              0              0              0   \n",
       "3               0              0              1              0              0   \n",
       "4               0              0              0              1              0   \n",
       "5               0              0              1              0              0   \n",
       "\n",
       "    MSSubClass_80  MSSubClass_85  MSSubClass_90  \n",
       "Id                                               \n",
       "1               0              0              0  \n",
       "2               0              0              0  \n",
       "3               0              0              0  \n",
       "4               0              0              0  \n",
       "5               0              0              0  "
      ]
     },
     "execution_count": 12,
     "metadata": {},
     "output_type": "execute_result"
    }
   ],
   "source": [
    "pd.get_dummies(all_df['MSSubClass'],prefix='MSSubClass').head()"
   ]
  },
  {
   "cell_type": "markdown",
   "id": "e29c730e",
   "metadata": {},
   "source": [
    "同理，我们把所有的category数据，都给One-Hot了"
   ]
  },
  {
   "cell_type": "code",
   "execution_count": 13,
   "id": "1b65f267",
   "metadata": {},
   "outputs": [
    {
     "data": {
      "text/html": [
       "<div>\n",
       "<style scoped>\n",
       "    .dataframe tbody tr th:only-of-type {\n",
       "        vertical-align: middle;\n",
       "    }\n",
       "\n",
       "    .dataframe tbody tr th {\n",
       "        vertical-align: top;\n",
       "    }\n",
       "\n",
       "    .dataframe thead th {\n",
       "        text-align: right;\n",
       "    }\n",
       "</style>\n",
       "<table border=\"1\" class=\"dataframe\">\n",
       "  <thead>\n",
       "    <tr style=\"text-align: right;\">\n",
       "      <th></th>\n",
       "      <th>LotFrontage</th>\n",
       "      <th>LotArea</th>\n",
       "      <th>OverallQual</th>\n",
       "      <th>OverallCond</th>\n",
       "      <th>YearBuilt</th>\n",
       "      <th>YearRemodAdd</th>\n",
       "      <th>MasVnrArea</th>\n",
       "      <th>BsmtFinSF1</th>\n",
       "      <th>BsmtFinSF2</th>\n",
       "      <th>BsmtUnfSF</th>\n",
       "      <th>...</th>\n",
       "      <th>SaleType_ConLw</th>\n",
       "      <th>SaleType_New</th>\n",
       "      <th>SaleType_Oth</th>\n",
       "      <th>SaleType_WD</th>\n",
       "      <th>SaleCondition_Abnorml</th>\n",
       "      <th>SaleCondition_AdjLand</th>\n",
       "      <th>SaleCondition_Alloca</th>\n",
       "      <th>SaleCondition_Family</th>\n",
       "      <th>SaleCondition_Normal</th>\n",
       "      <th>SaleCondition_Partial</th>\n",
       "    </tr>\n",
       "    <tr>\n",
       "      <th>Id</th>\n",
       "      <th></th>\n",
       "      <th></th>\n",
       "      <th></th>\n",
       "      <th></th>\n",
       "      <th></th>\n",
       "      <th></th>\n",
       "      <th></th>\n",
       "      <th></th>\n",
       "      <th></th>\n",
       "      <th></th>\n",
       "      <th></th>\n",
       "      <th></th>\n",
       "      <th></th>\n",
       "      <th></th>\n",
       "      <th></th>\n",
       "      <th></th>\n",
       "      <th></th>\n",
       "      <th></th>\n",
       "      <th></th>\n",
       "      <th></th>\n",
       "      <th></th>\n",
       "    </tr>\n",
       "  </thead>\n",
       "  <tbody>\n",
       "    <tr>\n",
       "      <th>1</th>\n",
       "      <td>65.0</td>\n",
       "      <td>8450</td>\n",
       "      <td>7</td>\n",
       "      <td>5</td>\n",
       "      <td>2003</td>\n",
       "      <td>2003</td>\n",
       "      <td>196.0</td>\n",
       "      <td>706.0</td>\n",
       "      <td>0.0</td>\n",
       "      <td>150.0</td>\n",
       "      <td>...</td>\n",
       "      <td>0</td>\n",
       "      <td>0</td>\n",
       "      <td>0</td>\n",
       "      <td>1</td>\n",
       "      <td>0</td>\n",
       "      <td>0</td>\n",
       "      <td>0</td>\n",
       "      <td>0</td>\n",
       "      <td>1</td>\n",
       "      <td>0</td>\n",
       "    </tr>\n",
       "    <tr>\n",
       "      <th>2</th>\n",
       "      <td>80.0</td>\n",
       "      <td>9600</td>\n",
       "      <td>6</td>\n",
       "      <td>8</td>\n",
       "      <td>1976</td>\n",
       "      <td>1976</td>\n",
       "      <td>0.0</td>\n",
       "      <td>978.0</td>\n",
       "      <td>0.0</td>\n",
       "      <td>284.0</td>\n",
       "      <td>...</td>\n",
       "      <td>0</td>\n",
       "      <td>0</td>\n",
       "      <td>0</td>\n",
       "      <td>1</td>\n",
       "      <td>0</td>\n",
       "      <td>0</td>\n",
       "      <td>0</td>\n",
       "      <td>0</td>\n",
       "      <td>1</td>\n",
       "      <td>0</td>\n",
       "    </tr>\n",
       "    <tr>\n",
       "      <th>3</th>\n",
       "      <td>68.0</td>\n",
       "      <td>11250</td>\n",
       "      <td>7</td>\n",
       "      <td>5</td>\n",
       "      <td>2001</td>\n",
       "      <td>2002</td>\n",
       "      <td>162.0</td>\n",
       "      <td>486.0</td>\n",
       "      <td>0.0</td>\n",
       "      <td>434.0</td>\n",
       "      <td>...</td>\n",
       "      <td>0</td>\n",
       "      <td>0</td>\n",
       "      <td>0</td>\n",
       "      <td>1</td>\n",
       "      <td>0</td>\n",
       "      <td>0</td>\n",
       "      <td>0</td>\n",
       "      <td>0</td>\n",
       "      <td>1</td>\n",
       "      <td>0</td>\n",
       "    </tr>\n",
       "    <tr>\n",
       "      <th>4</th>\n",
       "      <td>60.0</td>\n",
       "      <td>9550</td>\n",
       "      <td>7</td>\n",
       "      <td>5</td>\n",
       "      <td>1915</td>\n",
       "      <td>1970</td>\n",
       "      <td>0.0</td>\n",
       "      <td>216.0</td>\n",
       "      <td>0.0</td>\n",
       "      <td>540.0</td>\n",
       "      <td>...</td>\n",
       "      <td>0</td>\n",
       "      <td>0</td>\n",
       "      <td>0</td>\n",
       "      <td>1</td>\n",
       "      <td>1</td>\n",
       "      <td>0</td>\n",
       "      <td>0</td>\n",
       "      <td>0</td>\n",
       "      <td>0</td>\n",
       "      <td>0</td>\n",
       "    </tr>\n",
       "    <tr>\n",
       "      <th>5</th>\n",
       "      <td>84.0</td>\n",
       "      <td>14260</td>\n",
       "      <td>8</td>\n",
       "      <td>5</td>\n",
       "      <td>2000</td>\n",
       "      <td>2000</td>\n",
       "      <td>350.0</td>\n",
       "      <td>655.0</td>\n",
       "      <td>0.0</td>\n",
       "      <td>490.0</td>\n",
       "      <td>...</td>\n",
       "      <td>0</td>\n",
       "      <td>0</td>\n",
       "      <td>0</td>\n",
       "      <td>1</td>\n",
       "      <td>0</td>\n",
       "      <td>0</td>\n",
       "      <td>0</td>\n",
       "      <td>0</td>\n",
       "      <td>1</td>\n",
       "      <td>0</td>\n",
       "    </tr>\n",
       "  </tbody>\n",
       "</table>\n",
       "<p>5 rows × 303 columns</p>\n",
       "</div>"
      ],
      "text/plain": [
       "    LotFrontage  LotArea  OverallQual  OverallCond  YearBuilt  YearRemodAdd  \\\n",
       "Id                                                                            \n",
       "1          65.0     8450            7            5       2003          2003   \n",
       "2          80.0     9600            6            8       1976          1976   \n",
       "3          68.0    11250            7            5       2001          2002   \n",
       "4          60.0     9550            7            5       1915          1970   \n",
       "5          84.0    14260            8            5       2000          2000   \n",
       "\n",
       "    MasVnrArea  BsmtFinSF1  BsmtFinSF2  BsmtUnfSF  ...  SaleType_ConLw  \\\n",
       "Id                                                 ...                   \n",
       "1        196.0       706.0         0.0      150.0  ...               0   \n",
       "2          0.0       978.0         0.0      284.0  ...               0   \n",
       "3        162.0       486.0         0.0      434.0  ...               0   \n",
       "4          0.0       216.0         0.0      540.0  ...               0   \n",
       "5        350.0       655.0         0.0      490.0  ...               0   \n",
       "\n",
       "    SaleType_New  SaleType_Oth  SaleType_WD  SaleCondition_Abnorml  \\\n",
       "Id                                                                   \n",
       "1              0             0            1                      0   \n",
       "2              0             0            1                      0   \n",
       "3              0             0            1                      0   \n",
       "4              0             0            1                      1   \n",
       "5              0             0            1                      0   \n",
       "\n",
       "    SaleCondition_AdjLand  SaleCondition_Alloca  SaleCondition_Family  \\\n",
       "Id                                                                      \n",
       "1                       0                     0                     0   \n",
       "2                       0                     0                     0   \n",
       "3                       0                     0                     0   \n",
       "4                       0                     0                     0   \n",
       "5                       0                     0                     0   \n",
       "\n",
       "    SaleCondition_Normal  SaleCondition_Partial  \n",
       "Id                                               \n",
       "1                      1                      0  \n",
       "2                      1                      0  \n",
       "3                      1                      0  \n",
       "4                      0                      0  \n",
       "5                      1                      0  \n",
       "\n",
       "[5 rows x 303 columns]"
      ]
     },
     "execution_count": 13,
     "metadata": {},
     "output_type": "execute_result"
    }
   ],
   "source": [
    "all_dummy_df=pd.get_dummies(all_df)\n",
    "all_dummy_df.head()"
   ]
  },
  {
   "cell_type": "markdown",
   "id": "e7b574a2",
   "metadata": {},
   "source": [
    "会自动选取可能的dummy"
   ]
  },
  {
   "cell_type": "markdown",
   "id": "9186b011",
   "metadata": {},
   "source": [
    "**处理好numerical变量**<br>\n",
    "就算是numerical的变量，也还会有一些小问题<br>\n",
    "比如，有一些数据是缺失的"
   ]
  },
  {
   "cell_type": "code",
   "execution_count": 14,
   "id": "7b174439",
   "metadata": {},
   "outputs": [
    {
     "data": {
      "text/plain": [
       "LotFrontage     486\n",
       "GarageYrBlt     159\n",
       "MasVnrArea       23\n",
       "BsmtFullBath      2\n",
       "BsmtHalfBath      2\n",
       "BsmtUnfSF         1\n",
       "GarageArea        1\n",
       "TotalBsmtSF       1\n",
       "GarageCars        1\n",
       "BsmtFinSF2        1\n",
       "dtype: int64"
      ]
     },
     "execution_count": 14,
     "metadata": {},
     "output_type": "execute_result"
    }
   ],
   "source": [
    "all_dummy_df.isnull().sum().sort_values(ascending=False).head(10)"
   ]
  },
  {
   "cell_type": "markdown",
   "id": "76487d57",
   "metadata": {},
   "source": [
    ".isnull(): 这是一个DataFrame的方法，用于检查DataFrame中的每个元素是否为缺失值（即NaN或None），并返回一个与原DataFrame形状相同的布尔型DataFrame，其中缺失值的位置为True，非缺失值的位置为False。<br>\n",
    "\n",
    ".sum(): 这个方法用于对布尔型DataFrame进行求和操作，它将沿着指定的轴（默认为轴0，即列）对True的值进行计数。结果是一个Series对象，其中每个条目代表对应列或行中缺失值的数量。<br>\n",
    "\n",
    ".sort_values(ascending=False): 这个方法用于对Series对象中的值进行排序。ascending=False参数表示降序排序，即缺失值数量最多的列或行排在前面。<br>\n",
    "\n",
    ".head(): 这个方法用于返回排序后的Series对象的前n个条目，默认情况下n为5。在这个上下文中，它将返回缺失值数量最多的前5个列或行。<br>"
   ]
  },
  {
   "cell_type": "markdown",
   "id": "b80f7ef8",
   "metadata": {},
   "source": [
    "处理这些缺失的信息，得靠好好审题。一般来说，数据集的描述里会写的很清楚，这些缺失都代表着什么。当然，如果实在没有的话，也只能靠自己的「想当然」。。\n",
    "在这里，我们用平均值来填满这些空缺。"
   ]
  },
  {
   "cell_type": "code",
   "execution_count": 15,
   "id": "b06f5a68",
   "metadata": {},
   "outputs": [
    {
     "data": {
      "text/plain": [
       "LotFrontage        69.305795\n",
       "LotArea         10168.114080\n",
       "OverallQual         6.089072\n",
       "OverallCond         5.564577\n",
       "YearBuilt        1971.312778\n",
       "YearRemodAdd     1984.264474\n",
       "MasVnrArea        102.201312\n",
       "BsmtFinSF1        441.423235\n",
       "BsmtFinSF2         49.582248\n",
       "BsmtUnfSF         560.772104\n",
       "dtype: float64"
      ]
     },
     "execution_count": 15,
     "metadata": {},
     "output_type": "execute_result"
    }
   ],
   "source": [
    "mean_cols=all_dummy_df.mean()\n",
    "mean_cols.head(10)"
   ]
  },
  {
   "cell_type": "code",
   "execution_count": 16,
   "id": "e394ddd9",
   "metadata": {},
   "outputs": [],
   "source": [
    "all_dummy_df=all_dummy_df.fillna(mean_cols)"
   ]
  },
  {
   "cell_type": "markdown",
   "id": "bcdde979",
   "metadata": {},
   "source": [
    "看看是不是没有空缺了？"
   ]
  },
  {
   "cell_type": "code",
   "execution_count": 17,
   "id": "ca2bb28a",
   "metadata": {},
   "outputs": [
    {
     "data": {
      "text/plain": [
       "LotFrontage              0\n",
       "LotArea                  0\n",
       "OverallQual              0\n",
       "OverallCond              0\n",
       "YearBuilt                0\n",
       "                        ..\n",
       "SaleCondition_AdjLand    0\n",
       "SaleCondition_Alloca     0\n",
       "SaleCondition_Family     0\n",
       "SaleCondition_Normal     0\n",
       "SaleCondition_Partial    0\n",
       "Length: 303, dtype: int64"
      ]
     },
     "execution_count": 17,
     "metadata": {},
     "output_type": "execute_result"
    }
   ],
   "source": [
    "all_dummy_df.isnull().sum()"
   ]
  },
  {
   "cell_type": "code",
   "execution_count": 18,
   "id": "093d5424",
   "metadata": {},
   "outputs": [
    {
     "data": {
      "text/plain": [
       "0"
      ]
     },
     "execution_count": 18,
     "metadata": {},
     "output_type": "execute_result"
    }
   ],
   "source": [
    "all_dummy_df.isnull().sum().sum()"
   ]
  },
  {
   "cell_type": "markdown",
   "id": "dbd77dd4",
   "metadata": {},
   "source": [
    "**标准化numerical数据**<br>\n",
    "这一步并不是必要，但是得看你想要用的分类器是什么。一般来说，regression的分类器都比较傲娇，最好是把源数据给放在一个标准分布内。不要让数据间的差距太大。<br>\n",
    "这里，我们当然不需要把One-Hot的那些0/1数据给标准化。我们的目标应该是那些本来就是numerical的数据:<br>\n",
    "先来看看哪些是numerical的:"
   ]
  },
  {
   "cell_type": "code",
   "execution_count": 19,
   "id": "7526767d",
   "metadata": {},
   "outputs": [
    {
     "data": {
      "text/plain": [
       "Index(['LotFrontage', 'LotArea', 'OverallQual', 'OverallCond', 'YearBuilt',\n",
       "       'YearRemodAdd', 'MasVnrArea', 'BsmtFinSF1', 'BsmtFinSF2', 'BsmtUnfSF',\n",
       "       'TotalBsmtSF', '1stFlrSF', '2ndFlrSF', 'LowQualFinSF', 'GrLivArea',\n",
       "       'BsmtFullBath', 'BsmtHalfBath', 'FullBath', 'HalfBath', 'BedroomAbvGr',\n",
       "       'KitchenAbvGr', 'TotRmsAbvGrd', 'Fireplaces', 'GarageYrBlt',\n",
       "       'GarageCars', 'GarageArea', 'WoodDeckSF', 'OpenPorchSF',\n",
       "       'EnclosedPorch', '3SsnPorch', 'ScreenPorch', 'PoolArea', 'MiscVal',\n",
       "       'MoSold', 'YrSold'],\n",
       "      dtype='object')"
      ]
     },
     "execution_count": 19,
     "metadata": {},
     "output_type": "execute_result"
    }
   ],
   "source": [
    "numeric_cols=all_df.columns[all_df.dtypes !='object']\n",
    "numeric_cols"
   ]
  },
  {
   "cell_type": "markdown",
   "id": "46210e99",
   "metadata": {},
   "source": [
    "all_df.dtypes: 这是一个Series对象，其中包含all_df中每一列的数据类型。<br>\n",
    "\n",
    "all_df.columns: 这是一个Index对象，包含all_df中所有列的名称。<br>\n",
    "\n",
    "all_df.dtypes != 'object': 这是一个布尔索引，用于筛选出数据类型不是object（即不是对象类型，通常用于存储文本数据）的列。<br>\n",
    "\n",
    "numeric_cols = all_df.columns[all_df.dtypes != 'object']: 这行代码的目的是创建一个名为numeric_cols的新变量，它是一个Index对象，包含了所有数据类型不是object的列的名称。换句话说，numeric_cols将包含所有数值型列的名称。"
   ]
  },
  {
   "cell_type": "markdown",
   "id": "93039693",
   "metadata": {},
   "source": [
    "在pandas中，如果你想筛选特定数据类型的列，你可以使用与上面类似的方法，但会根据需要筛选的数据类型来调整条件。以下是一些筛选不同数据类型列的例子：<br>\n",
    "\n",
    "筛选整数型列：<br>\n",
    "\n",
    "integer_cols = all_df.columns[all_df.dtypes == 'int64'] <br>\n",
    "筛选浮点型列：<br>\n",
    "\n",
    "float_cols = all_df.columns[all_df.dtypes == 'float64'] <br>\n",
    "筛选布尔型列：<br>\n",
    "\n",
    "bool_cols = all_df.columns[all_df.dtypes == 'bool'] <br>\n",
    "筛选日期时间型列（如果DataFrame中的日期时间列被识别为datetime64[ns]类型）：<br>\n",
    "\n",
    "datetime_cols = all_df.columns[all_df.dtypes == 'datetime64[ns]'] <br>\n",
    "筛选类别型列（如果DataFrame中的某些列被转换为pandas的Categorical类型）：<br>\n",
    "\n",
    "category_cols = all_df.columns[all_df.dtypes == 'category'] <br>\n",
    "筛选字符串型列（通常object类型用于存储字符串）：<br>\n",
    "\n",
    "string_cols = all_df.columns[all_df.dtypes == 'object'] <br>\n",
    "筛选所有非数值型列（除了整数和浮点数之外的所有类型）： <br>\n",
    "\n",
    "non_numeric_cols = all_df.columns[~(all_df.dtypes == 'int64') & ~(all_df.dtypes == 'float64')] <br>\n",
    "筛选特定数据类型的列（例如，筛选出所有object类型且实际内容为字符串的列）： <br>\n",
    "\n",
    "object_string_cols = all_df.columns[(all_df.dtypes == 'object') & all_df.applymap(lambda x: isinstance(x, str))] <br>\n",
    "请注意，具体的数据类型字符串（如'int64', 'float64', 'bool', 'datetime64[ns]', 'category', 'object'）可能会根据pandas的版本或具体数据而有所不同。在使用这些代码之前，建议先检查all_df.dtypes以确认数据类型。"
   ]
  },
  {
   "cell_type": "markdown",
   "id": "ce5ec7c4",
   "metadata": {},
   "source": [
    "计算标准分布:(X-X')/s <br>\n",
    "让我们的数据点更平滑，更便于计算。<br>\n",
    "注意:我们这里也是可以继续使用Log的，我只是给大家展示一下多种“使数据平滑”的办法。"
   ]
  },
  {
   "cell_type": "code",
   "execution_count": 20,
   "id": "3d16f14d",
   "metadata": {},
   "outputs": [],
   "source": [
    "numeric_col_means=all_dummy_df.loc[:, numeric_cols].mean()\n",
    "numeric_col_std=all_dummy_df.loc[:,numeric_cols].std()\n",
    "all_dummy_df.loc[:,numeric_cols]=(all_dummy_df.loc[:,numeric_cols]-numeric_col_means)/numeric_col_std"
   ]
  },
  {
   "cell_type": "markdown",
   "id": "334c5e33",
   "metadata": {},
   "source": [
    "all_dummy_df.loc[:, numeric_cols]: 这是使用.loc属性进行列选择的一种方式。.loc用于基于标签的索引，其中第一个参数是行标签（在这里使用了:表示选择所有行），第二个参数是列标签（在这里是numeric_cols）。这将返回一个新的DataFrame，只包含numeric_cols中指定的列。"
   ]
  },
  {
   "cell_type": "code",
   "execution_count": 21,
   "id": "fd333777",
   "metadata": {},
   "outputs": [
    {
     "data": {
      "text/html": [
       "<div>\n",
       "<style scoped>\n",
       "    .dataframe tbody tr th:only-of-type {\n",
       "        vertical-align: middle;\n",
       "    }\n",
       "\n",
       "    .dataframe tbody tr th {\n",
       "        vertical-align: top;\n",
       "    }\n",
       "\n",
       "    .dataframe thead th {\n",
       "        text-align: right;\n",
       "    }\n",
       "</style>\n",
       "<table border=\"1\" class=\"dataframe\">\n",
       "  <thead>\n",
       "    <tr style=\"text-align: right;\">\n",
       "      <th></th>\n",
       "      <th>LotFrontage</th>\n",
       "      <th>LotArea</th>\n",
       "      <th>OverallQual</th>\n",
       "      <th>OverallCond</th>\n",
       "      <th>YearBuilt</th>\n",
       "      <th>YearRemodAdd</th>\n",
       "      <th>MasVnrArea</th>\n",
       "      <th>BsmtFinSF1</th>\n",
       "      <th>BsmtFinSF2</th>\n",
       "      <th>BsmtUnfSF</th>\n",
       "      <th>...</th>\n",
       "      <th>GarageArea</th>\n",
       "      <th>WoodDeckSF</th>\n",
       "      <th>OpenPorchSF</th>\n",
       "      <th>EnclosedPorch</th>\n",
       "      <th>3SsnPorch</th>\n",
       "      <th>ScreenPorch</th>\n",
       "      <th>PoolArea</th>\n",
       "      <th>MiscVal</th>\n",
       "      <th>MoSold</th>\n",
       "      <th>YrSold</th>\n",
       "    </tr>\n",
       "    <tr>\n",
       "      <th>Id</th>\n",
       "      <th></th>\n",
       "      <th></th>\n",
       "      <th></th>\n",
       "      <th></th>\n",
       "      <th></th>\n",
       "      <th></th>\n",
       "      <th></th>\n",
       "      <th></th>\n",
       "      <th></th>\n",
       "      <th></th>\n",
       "      <th></th>\n",
       "      <th></th>\n",
       "      <th></th>\n",
       "      <th></th>\n",
       "      <th></th>\n",
       "      <th></th>\n",
       "      <th></th>\n",
       "      <th></th>\n",
       "      <th></th>\n",
       "      <th></th>\n",
       "      <th></th>\n",
       "    </tr>\n",
       "  </thead>\n",
       "  <tbody>\n",
       "    <tr>\n",
       "      <th>1</th>\n",
       "      <td>-0.202033</td>\n",
       "      <td>-0.217841</td>\n",
       "      <td>0.646073</td>\n",
       "      <td>-0.507197</td>\n",
       "      <td>1.046078</td>\n",
       "      <td>0.896679</td>\n",
       "      <td>0.525112</td>\n",
       "      <td>0.580807</td>\n",
       "      <td>-0.29308</td>\n",
       "      <td>-0.934702</td>\n",
       "      <td>...</td>\n",
       "      <td>0.348840</td>\n",
       "      <td>-0.740634</td>\n",
       "      <td>0.199972</td>\n",
       "      <td>-0.359539</td>\n",
       "      <td>-0.103313</td>\n",
       "      <td>-0.285886</td>\n",
       "      <td>-0.063139</td>\n",
       "      <td>-0.089577</td>\n",
       "      <td>-1.551918</td>\n",
       "      <td>0.157619</td>\n",
       "    </tr>\n",
       "    <tr>\n",
       "      <th>2</th>\n",
       "      <td>0.501785</td>\n",
       "      <td>-0.072032</td>\n",
       "      <td>-0.063174</td>\n",
       "      <td>2.187904</td>\n",
       "      <td>0.154737</td>\n",
       "      <td>-0.395536</td>\n",
       "      <td>-0.572152</td>\n",
       "      <td>1.177910</td>\n",
       "      <td>-0.29308</td>\n",
       "      <td>-0.629788</td>\n",
       "      <td>...</td>\n",
       "      <td>-0.059782</td>\n",
       "      <td>1.614603</td>\n",
       "      <td>-0.702722</td>\n",
       "      <td>-0.359539</td>\n",
       "      <td>-0.103313</td>\n",
       "      <td>-0.285886</td>\n",
       "      <td>-0.063139</td>\n",
       "      <td>-0.089577</td>\n",
       "      <td>-0.446848</td>\n",
       "      <td>-0.602858</td>\n",
       "    </tr>\n",
       "    <tr>\n",
       "      <th>3</th>\n",
       "      <td>-0.061269</td>\n",
       "      <td>0.137173</td>\n",
       "      <td>0.646073</td>\n",
       "      <td>-0.507197</td>\n",
       "      <td>0.980053</td>\n",
       "      <td>0.848819</td>\n",
       "      <td>0.334770</td>\n",
       "      <td>0.097856</td>\n",
       "      <td>-0.29308</td>\n",
       "      <td>-0.288467</td>\n",
       "      <td>...</td>\n",
       "      <td>0.627446</td>\n",
       "      <td>-0.740634</td>\n",
       "      <td>-0.081195</td>\n",
       "      <td>-0.359539</td>\n",
       "      <td>-0.103313</td>\n",
       "      <td>-0.285886</td>\n",
       "      <td>-0.063139</td>\n",
       "      <td>-0.089577</td>\n",
       "      <td>1.026577</td>\n",
       "      <td>0.157619</td>\n",
       "    </tr>\n",
       "    <tr>\n",
       "      <th>4</th>\n",
       "      <td>-0.436639</td>\n",
       "      <td>-0.078371</td>\n",
       "      <td>0.646073</td>\n",
       "      <td>-0.507197</td>\n",
       "      <td>-1.859033</td>\n",
       "      <td>-0.682695</td>\n",
       "      <td>-0.572152</td>\n",
       "      <td>-0.494856</td>\n",
       "      <td>-0.29308</td>\n",
       "      <td>-0.047266</td>\n",
       "      <td>...</td>\n",
       "      <td>0.785323</td>\n",
       "      <td>-0.740634</td>\n",
       "      <td>-0.184783</td>\n",
       "      <td>3.874303</td>\n",
       "      <td>-0.103313</td>\n",
       "      <td>-0.285886</td>\n",
       "      <td>-0.063139</td>\n",
       "      <td>-0.089577</td>\n",
       "      <td>-1.551918</td>\n",
       "      <td>-1.363335</td>\n",
       "    </tr>\n",
       "    <tr>\n",
       "      <th>5</th>\n",
       "      <td>0.689469</td>\n",
       "      <td>0.518814</td>\n",
       "      <td>1.355319</td>\n",
       "      <td>-0.507197</td>\n",
       "      <td>0.947040</td>\n",
       "      <td>0.753100</td>\n",
       "      <td>1.387248</td>\n",
       "      <td>0.468851</td>\n",
       "      <td>-0.29308</td>\n",
       "      <td>-0.161040</td>\n",
       "      <td>...</td>\n",
       "      <td>1.686149</td>\n",
       "      <td>0.776834</td>\n",
       "      <td>0.540332</td>\n",
       "      <td>-0.359539</td>\n",
       "      <td>-0.103313</td>\n",
       "      <td>-0.285886</td>\n",
       "      <td>-0.063139</td>\n",
       "      <td>-0.089577</td>\n",
       "      <td>2.131647</td>\n",
       "      <td>0.157619</td>\n",
       "    </tr>\n",
       "  </tbody>\n",
       "</table>\n",
       "<p>5 rows × 35 columns</p>\n",
       "</div>"
      ],
      "text/plain": [
       "    LotFrontage   LotArea  OverallQual  OverallCond  YearBuilt  YearRemodAdd  \\\n",
       "Id                                                                             \n",
       "1     -0.202033 -0.217841     0.646073    -0.507197   1.046078      0.896679   \n",
       "2      0.501785 -0.072032    -0.063174     2.187904   0.154737     -0.395536   \n",
       "3     -0.061269  0.137173     0.646073    -0.507197   0.980053      0.848819   \n",
       "4     -0.436639 -0.078371     0.646073    -0.507197  -1.859033     -0.682695   \n",
       "5      0.689469  0.518814     1.355319    -0.507197   0.947040      0.753100   \n",
       "\n",
       "    MasVnrArea  BsmtFinSF1  BsmtFinSF2  BsmtUnfSF  ...  GarageArea  \\\n",
       "Id                                                 ...               \n",
       "1     0.525112    0.580807    -0.29308  -0.934702  ...    0.348840   \n",
       "2    -0.572152    1.177910    -0.29308  -0.629788  ...   -0.059782   \n",
       "3     0.334770    0.097856    -0.29308  -0.288467  ...    0.627446   \n",
       "4    -0.572152   -0.494856    -0.29308  -0.047266  ...    0.785323   \n",
       "5     1.387248    0.468851    -0.29308  -0.161040  ...    1.686149   \n",
       "\n",
       "    WoodDeckSF  OpenPorchSF  EnclosedPorch  3SsnPorch  ScreenPorch  PoolArea  \\\n",
       "Id                                                                             \n",
       "1    -0.740634     0.199972      -0.359539  -0.103313    -0.285886 -0.063139   \n",
       "2     1.614603    -0.702722      -0.359539  -0.103313    -0.285886 -0.063139   \n",
       "3    -0.740634    -0.081195      -0.359539  -0.103313    -0.285886 -0.063139   \n",
       "4    -0.740634    -0.184783       3.874303  -0.103313    -0.285886 -0.063139   \n",
       "5     0.776834     0.540332      -0.359539  -0.103313    -0.285886 -0.063139   \n",
       "\n",
       "     MiscVal    MoSold    YrSold  \n",
       "Id                                \n",
       "1  -0.089577 -1.551918  0.157619  \n",
       "2  -0.089577 -0.446848 -0.602858  \n",
       "3  -0.089577  1.026577  0.157619  \n",
       "4  -0.089577 -1.551918 -1.363335  \n",
       "5  -0.089577  2.131647  0.157619  \n",
       "\n",
       "[5 rows x 35 columns]"
      ]
     },
     "execution_count": 21,
     "metadata": {},
     "output_type": "execute_result"
    }
   ],
   "source": [
    "all_dummy_df.loc[:,numeric_cols].head()"
   ]
  },
  {
   "cell_type": "markdown",
   "id": "b54dbb69",
   "metadata": {},
   "source": [
    "# Step 4: 建立模型"
   ]
  },
  {
   "cell_type": "markdown",
   "id": "dfd150b8",
   "metadata": {},
   "source": [
    "把数据集分回 训练/测试集"
   ]
  },
  {
   "cell_type": "code",
   "execution_count": 22,
   "id": "9cc0559e",
   "metadata": {},
   "outputs": [
    {
     "data": {
      "text/plain": [
       "Int64Index([   1,    2,    3,    4,    5,    6,    7,    8,    9,   10,\n",
       "            ...\n",
       "            1451, 1452, 1453, 1454, 1455, 1456, 1457, 1458, 1459, 1460],\n",
       "           dtype='int64', name='Id', length=1460)"
      ]
     },
     "execution_count": 22,
     "metadata": {},
     "output_type": "execute_result"
    }
   ],
   "source": [
    "train_df.index"
   ]
  },
  {
   "cell_type": "markdown",
   "id": "217d418e",
   "metadata": {},
   "source": [
    "index: 这是pandas DataFrame的一个属性，它返回DataFrame的索引。索引在pandas中用于唯一标识每一行"
   ]
  },
  {
   "cell_type": "code",
   "execution_count": 23,
   "id": "c772582d",
   "metadata": {},
   "outputs": [],
   "source": [
    "dummy_train_df=all_dummy_df.loc[train_df.index]\n",
    "dummy_test_df=all_dummy_df.loc[test_df.index]"
   ]
  },
  {
   "cell_type": "code",
   "execution_count": 24,
   "id": "82b91502",
   "metadata": {},
   "outputs": [
    {
     "data": {
      "text/plain": [
       "((1460, 303), (1459, 303))"
      ]
     },
     "execution_count": 24,
     "metadata": {},
     "output_type": "execute_result"
    }
   ],
   "source": [
    "dummy_train_df.shape, dummy_test_df.shape"
   ]
  },
  {
   "cell_type": "markdown",
   "id": "18dafea2",
   "metadata": {},
   "source": [
    "**Ridge Regression**"
   ]
  },
  {
   "cell_type": "markdown",
   "id": "9b352f43",
   "metadata": {},
   "source": [
    "用Ridge Regression模型来跑一遍看看。（对于多因子的数据集，这种模型可以方便地把所有的var都无脑的放进去）"
   ]
  },
  {
   "cell_type": "code",
   "execution_count": 25,
   "id": "da5db5ec",
   "metadata": {},
   "outputs": [],
   "source": [
    "from sklearn.linear_model import Ridge\n",
    "from sklearn.model_selection import cross_val_score"
   ]
  },
  {
   "cell_type": "markdown",
   "id": "8f135308",
   "metadata": {},
   "source": [
    "这一步不是很必要，只是把DF转换成Numby Array，这跟Sklearn更加陪"
   ]
  },
  {
   "cell_type": "code",
   "execution_count": 26,
   "id": "161c0b26",
   "metadata": {},
   "outputs": [],
   "source": [
    "X_train=dummy_train_df.values\n",
    "X_test=dummy_test_df.values"
   ]
  },
  {
   "cell_type": "markdown",
   "id": "935fc44d",
   "metadata": {},
   "source": [
    "用Sklearn自带的cross validation方法来测试模型"
   ]
  },
  {
   "cell_type": "markdown",
   "id": "fc066aeb",
   "metadata": {},
   "source": [
    "通过交叉验证选择最好的模型"
   ]
  },
  {
   "cell_type": "code",
   "execution_count": 27,
   "id": "73f10cc9",
   "metadata": {},
   "outputs": [],
   "source": [
    "alphas=np.logspace(-3,2,50)\n",
    "test_scores=[]\n",
    "for alpha in alphas:\n",
    "    clf=Ridge(alpha)\n",
    "    test_score=np.sqrt(-cross_val_score(clf,X_train,y_train,cv=10,scoring='neg_mean_squared_error'))\n",
    "    test_scores.append(np.mean(test_score))"
   ]
  },
  {
   "cell_type": "markdown",
   "id": "572931b2",
   "metadata": {},
   "source": [
    "存下所有的CV值，看看哪个alpha值更好（也就是【调参数】）"
   ]
  },
  {
   "cell_type": "markdown",
   "id": "3f6a1936",
   "metadata": {},
   "source": [
    "这段代码使用了Python的NumPy库来创建一个对数等差数列的数组。下面是对代码的分析：<br>\n",
    "\n",
    "alphas 是一个变量名，用来存储生成的数组。<br>\n",
    "np 是NumPy库的常用缩写，表示需要先导入NumPy库才能使用这个变量。<br>\n",
    "logspace 是NumPy库中的一个函数，用于生成在对数尺度上等差分布的数列。<br>\n",
    "-3 和 2 是 logspace 函数的前两个参数，分别表示数列的起始和结束的对数值。这里，-3 对应于 10 的 -3 次方，即 0.001；2 对应于 10 的 2 次方，即 100。<br>\n",
    "50 是 logspace 函数的第三个参数，表示生成的数列中元素的个数。<br>\n",
    "综合来看，np.logspace(-3, 2, 50) 这行代码生成了一个包含50个元素的数组，数组中的数值从 10 的 -3 次方（0.001）开始，以 10 的 2 次方（100）结束，这些数值在对数尺度上是均匀分布的。"
   ]
  },
  {
   "cell_type": "markdown",
   "id": "6cd1d032",
   "metadata": {},
   "source": [
    "这段代码是用于评估机器学习模型性能的Python代码，使用了scikit-learn库。下面是对代码的分析：<br>\n",
    "\n",
    "test_score 是一个变量名，用来存储计算得到的交叉验证分数。<br>\n",
    "np.sqrt 是NumPy库中的函数，用于计算平方根。<br>\n",
    "-cross_val_score 是scikit-learn库中的函数，用于计算交叉验证的分数。这里的负号表示我们实际上计算的是正的均方误差（MSE），因为cross_val_score函数默认返回的是损失函数的负值。<br>\n",
    "clf 是一个模型实例，比如之前提到的Ridge回归模型。<br>\n",
    "X_train 和 y_train 分别是训练数据的特征矩阵和目标变量数组。<br>\n",
    "cv=10 表示使用10折交叉验证。这意味着数据将被分成10份，模型将被训练10次，每次使用其中的9份作为训练集，剩下的1份作为验证集。<br>\n",
    "scoring='neg_mean_squared_error' 指定了交叉验证的评分标准是负均方误差。均方误差是回归问题中常用的损失函数，衡量模型预测值与实际值之间的差异。负均方误差在这里使用是因为scikit-learn的评分指标默认返回的是损失，而不是评分，所以使用负号来获取实际的均方误差值。<br>\n",
    "综合来看，test_score=np.sqrt(-cross_val_score(clf,X_train,y_train,cv=10,scoring='neg_mean_squared_error')) 这行代码的作用是计算模型在10折交叉验证下的平均均方根误差（RMSE）。RMSE是评估回归模型性能的一个常用指标，它提供了预测误差的标准度量，并且由于平方根的作用，RMSE的单位与原始数据的单位相同，这使得结果更易于解释"
   ]
  },
  {
   "cell_type": "code",
   "execution_count": 28,
   "id": "58b41c4f",
   "metadata": {},
   "outputs": [
    {
     "data": {
      "image/png": "[encoded data removed]",
      "text/plain": [
       "<Figure size 640x480 with 1 Axes>"
      ]
     },
     "metadata": {},
     "output_type": "display_data"
    }
   ],
   "source": [
    "import matplotlib.pyplot as plt\n",
    "%matplotlib inline\n",
    "plt.plot(alphas, test_scores)\n",
    "plt.title(\"Alpha vs CV Error\");"
   ]
  },
  {
   "cell_type": "markdown",
   "id": "c6391a8c",
   "metadata": {},
   "source": [
    "可见，大概alpha=10-20的时候，可以把score达到0.135左右"
   ]
  },
  {
   "cell_type": "code",
   "execution_count": 31,
   "id": "8602d556",
   "metadata": {},
   "outputs": [
    {
     "name": "stdout",
     "output_type": "stream",
     "text": [
      "[0.15324561838998632, 0.1532165901158276, 0.15318247486696523, 0.15314054463166124, 0.1530881214439977, 0.15302264371776927, 0.1529416577961254, 0.15284274797610836, 0.1527234190037256, 0.15258094800335262, 0.15241223179469252, 0.15221366732310168, 0.15198110993610506, 0.15170995056107256, 0.15139533822853815, 0.15103255217726136, 0.15061749914437708, 0.15014727399056874, 0.1496206769025678, 0.14903854361575947, 0.1484037479630363, 0.14772081094403483, 0.14699520088553114, 0.14623258268763456, 0.14543836722419584, 0.14461782776948323, 0.14377678461886403, 0.1429225409566, 0.14206457835916014, 0.14121461063621235, 0.1403858986107405, 0.13959205633497168, 0.13884574605016128, 0.13815761473374194, 0.1375356634813173, 0.13698509308138584, 0.1365085906052538, 0.13610697963662802, 0.13578010229636606, 0.135527735997103, 0.13535031944858839, 0.13524931203692245, 0.13522713236186945, 0.13528676507183723, 0.13543122886103734, 0.13566312495774507, 0.1359844382371972, 0.13639668144768505, 0.13690140312888152, 0.13750103944907477]\n"
     ]
    }
   ],
   "source": [
    "print(test_scores)"
   ]
  },
  {
   "cell_type": "code",
   "execution_count": 32,
   "id": "b53b352c",
   "metadata": {},
   "outputs": [
    {
     "name": "stdout",
     "output_type": "stream",
     "text": [
      "[1.00000000e-03 1.26485522e-03 1.59985872e-03 2.02358965e-03\n",
      " 2.55954792e-03 3.23745754e-03 4.09491506e-03 5.17947468e-03\n",
      " 6.55128557e-03 8.28642773e-03 1.04811313e-02 1.32571137e-02\n",
      " 1.67683294e-02 2.12095089e-02 2.68269580e-02 3.39322177e-02\n",
      " 4.29193426e-02 5.42867544e-02 6.86648845e-02 8.68511374e-02\n",
      " 1.09854114e-01 1.38949549e-01 1.75751062e-01 2.22299648e-01\n",
      " 2.81176870e-01 3.55648031e-01 4.49843267e-01 5.68986603e-01\n",
      " 7.19685673e-01 9.10298178e-01 1.15139540e+00 1.45634848e+00\n",
      " 1.84206997e+00 2.32995181e+00 2.94705170e+00 3.72759372e+00\n",
      " 4.71486636e+00 5.96362332e+00 7.54312006e+00 9.54095476e+00\n",
      " 1.20679264e+01 1.52641797e+01 1.93069773e+01 2.44205309e+01\n",
      " 3.08884360e+01 3.90693994e+01 4.94171336e+01 6.25055193e+01\n",
      " 7.90604321e+01 1.00000000e+02]\n"
     ]
    }
   ],
   "source": [
    "print(alphas)"
   ]
  },
  {
   "cell_type": "markdown",
   "id": "0c92d9a5",
   "metadata": {},
   "source": [
    "**Random Forest**"
   ]
  },
  {
   "cell_type": "code",
   "execution_count": 33,
   "id": "d77cc6b5",
   "metadata": {},
   "outputs": [],
   "source": [
    "from sklearn.ensemble import RandomForestRegressor"
   ]
  },
  {
   "cell_type": "code",
   "execution_count": 38,
   "id": "e7163942",
   "metadata": {},
   "outputs": [],
   "source": [
    "max_features=[.1,.3,.5,.7,.9,.99]\n",
    "test_scores=[]\n",
    "for max_feat in max_features:\n",
    "    clf=RandomForestRegressor(n_estimators=200,max_features=max_feat)\n",
    "    test_score=np.sqrt(-cross_val_score(clf,X_train,y_train,cv=5,scoring='neg_mean_squared_error'))\n",
    "    test_scores.append(np.mean(test_score))"
   ]
  },
  {
   "cell_type": "code",
   "execution_count": 39,
   "id": "88b43728",
   "metadata": {},
   "outputs": [
    {
     "data": {
      "text/plain": [
       "Text(0.5, 1.0, 'Max Festures vs CV Error')"
      ]
     },
     "execution_count": 39,
     "metadata": {},
     "output_type": "execute_result"
    },
    {
     "data": {
      "image/png": "[encoded data removed]",
      "text/plain": [
       "<Figure size 640x480 with 1 Axes>"
      ]
     },
     "metadata": {},
     "output_type": "display_data"
    }
   ],
   "source": [
    "plt.plot(max_features,test_scores)\n",
    "plt.title(\"Max Festures vs CV Error\")"
   ]
  },
  {
   "cell_type": "markdown",
   "id": "5e7b51fe",
   "metadata": {},
   "source": [
    "用RF的最优值达到了0.137"
   ]
  },
  {
   "cell_type": "markdown",
   "id": "235555a0",
   "metadata": {},
   "source": [
    "# Step 5: Ensemble"
   ]
  },
  {
   "cell_type": "markdown",
   "id": "40ea6e9e",
   "metadata": {},
   "source": [
    "这里我们用一个Stacking的思维来汲取两种或者多种模型的优点"
   ]
  },
  {
   "cell_type": "markdown",
   "id": "39ccf045",
   "metadata": {},
   "source": [
    "首先，我们把最好的parameter拿出来，做成我们最优的model"
   ]
  },
  {
   "cell_type": "code",
   "execution_count": 42,
   "id": "db4c958f",
   "metadata": {},
   "outputs": [],
   "source": [
    "ridge=Ridge(alpha)\n",
    "rf=RandomForestRegressor(n_estimators=500,max_features=0.5)"
   ]
  },
  {
   "cell_type": "code",
   "execution_count": 44,
   "id": "1fd41779",
   "metadata": {},
   "outputs": [
    {
     "data": {
      "text/plain": [
       "RandomForestRegressor(max_features=0.5, n_estimators=500)"
      ]
     },
     "execution_count": 44,
     "metadata": {},
     "output_type": "execute_result"
    }
   ],
   "source": [
    "ridge.fit(X_train,y_train)\n",
    "rf.fit(X_train,y_train)"
   ]
  },
  {
   "cell_type": "markdown",
   "id": "5e3a9c77",
   "metadata": {},
   "source": [
    "上面提到了，因为最前面我们给lable做了个log(1+x)，于是这里我们需要把predict的值给exp回去，并且减掉那个\"1\""
   ]
  },
  {
   "cell_type": "markdown",
   "id": "d4dc5918",
   "metadata": {},
   "source": [
    "所以就是我们的expm1()函数 exp minus 1"
   ]
  },
  {
   "cell_type": "code",
   "execution_count": 50,
   "id": "33dfef44",
   "metadata": {},
   "outputs": [],
   "source": [
    "y_ridge=np.expm1(ridge.predict(X_test))\n",
    "y_rf=np.expm1(rf.predict(X_test))"
   ]
  },
  {
   "cell_type": "markdown",
   "id": "029d0490",
   "metadata": {},
   "source": [
    "一个正经的Ensemble就是把这群model的预测结果作为新的input，再做一次预测。这里我们简单的方法，就是直接【平均化】"
   ]
  },
  {
   "cell_type": "markdown",
   "id": "d3b1be92",
   "metadata": {},
   "source": [
    "就是再搞一次回归"
   ]
  },
  {
   "cell_type": "code",
   "execution_count": 51,
   "id": "d884e24b",
   "metadata": {},
   "outputs": [],
   "source": [
    "y_final=(y_ridge+y_rf)/2"
   ]
  },
  {
   "cell_type": "markdown",
   "id": "2a128590",
   "metadata": {},
   "source": [
    "# Step 6：提交结果"
   ]
  },
  {
   "cell_type": "code",
   "execution_count": 54,
   "id": "3e661f49",
   "metadata": {},
   "outputs": [],
   "source": [
    "submission_df=pd.DataFrame(data={'Id':test_df.index,'SalePrice':y_final})"
   ]
  },
  {
   "cell_type": "markdown",
   "id": "e022fe14",
   "metadata": {},
   "source": [
    "我们的submission大概长这样"
   ]
  },
  {
   "cell_type": "code",
   "execution_count": 55,
   "id": "509278f9",
   "metadata": {},
   "outputs": [
    {
     "data": {
      "text/html": [
       "<div>\n",
       "<style scoped>\n",
       "    .dataframe tbody tr th:only-of-type {\n",
       "        vertical-align: middle;\n",
       "    }\n",
       "\n",
       "    .dataframe tbody tr th {\n",
       "        vertical-align: top;\n",
       "    }\n",
       "\n",
       "    .dataframe thead th {\n",
       "        text-align: right;\n",
       "    }\n",
       "</style>\n",
       "<table border=\"1\" class=\"dataframe\">\n",
       "  <thead>\n",
       "    <tr style=\"text-align: right;\">\n",
       "      <th></th>\n",
       "      <th>Id</th>\n",
       "      <th>SalePrice</th>\n",
       "    </tr>\n",
       "  </thead>\n",
       "  <tbody>\n",
       "    <tr>\n",
       "      <th>0</th>\n",
       "      <td>1461</td>\n",
       "      <td>119695.501120</td>\n",
       "    </tr>\n",
       "    <tr>\n",
       "      <th>1</th>\n",
       "      <td>1462</td>\n",
       "      <td>149366.741379</td>\n",
       "    </tr>\n",
       "    <tr>\n",
       "      <th>2</th>\n",
       "      <td>1463</td>\n",
       "      <td>174472.269665</td>\n",
       "    </tr>\n",
       "    <tr>\n",
       "      <th>3</th>\n",
       "      <td>1464</td>\n",
       "      <td>190696.485775</td>\n",
       "    </tr>\n",
       "    <tr>\n",
       "      <th>4</th>\n",
       "      <td>1465</td>\n",
       "      <td>192296.979350</td>\n",
       "    </tr>\n",
       "    <tr>\n",
       "      <th>5</th>\n",
       "      <td>1466</td>\n",
       "      <td>176449.696265</td>\n",
       "    </tr>\n",
       "    <tr>\n",
       "      <th>6</th>\n",
       "      <td>1467</td>\n",
       "      <td>177733.023904</td>\n",
       "    </tr>\n",
       "    <tr>\n",
       "      <th>7</th>\n",
       "      <td>1468</td>\n",
       "      <td>170294.915077</td>\n",
       "    </tr>\n",
       "    <tr>\n",
       "      <th>8</th>\n",
       "      <td>1469</td>\n",
       "      <td>183841.397267</td>\n",
       "    </tr>\n",
       "    <tr>\n",
       "      <th>9</th>\n",
       "      <td>1470</td>\n",
       "      <td>120939.048717</td>\n",
       "    </tr>\n",
       "  </tbody>\n",
       "</table>\n",
       "</div>"
      ],
      "text/plain": [
       "     Id      SalePrice\n",
       "0  1461  119695.501120\n",
       "1  1462  149366.741379\n",
       "2  1463  174472.269665\n",
       "3  1464  190696.485775\n",
       "4  1465  192296.979350\n",
       "5  1466  176449.696265\n",
       "6  1467  177733.023904\n",
       "7  1468  170294.915077\n",
       "8  1469  183841.397267\n",
       "9  1470  120939.048717"
      ]
     },
     "execution_count": 55,
     "metadata": {},
     "output_type": "execute_result"
    }
   ],
   "source": [
    "submission_df.head(10)"
   ]
  },
  {
   "cell_type": "code",
   "execution_count": null,
   "id": "e517f9fc",
   "metadata": {},
   "outputs": [],
   "source": []
  },
  {
   "cell_type": "code",
   "execution_count": null,
   "id": "972efbd6",
   "metadata": {},
   "outputs": [],
   "source": []
  },
  {
   "cell_type": "code",
   "execution_count": null,
   "id": "c3e83631",
   "metadata": {},
   "outputs": [],
   "source": []
  }
 ],
 "metadata": {
  "kernelspec": {
   "display_name": "Python 3 (ipykernel)",
   "language": "python",
   "name": "python3"
  },
  "language_info": {
   "codemirror_mode": {
    "name": "ipython",
    "version": 3
   },
   "file_extension": ".py",
   "mimetype": "text/x-python",
   "name": "python",
   "nbconvert_exporter": "python",
   "pygments_lexer": "ipython3",
   "version": "3.9.13"
  }
 },
 "nbformat": 4,
 "nbformat_minor": 5
}
